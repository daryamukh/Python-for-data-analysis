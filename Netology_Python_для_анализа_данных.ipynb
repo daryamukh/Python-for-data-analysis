{
  "nbformat": 4,
  "nbformat_minor": 0,
  "metadata": {
    "colab": {
      "name": "Netology.Python для анализа данных.ipynb",
      "version": "0.3.2",
      "provenance": [],
      "collapsed_sections": []
    },
    "kernelspec": {
      "name": "python3",
      "display_name": "Python 3"
    }
  },
  "cells": [
    {
      "cell_type": "markdown",
      "metadata": {
        "id": "p79thTBriWfw",
        "colab_type": "text"
      },
      "source": [
        "Научимся:\n",
        "\n",
        "* Искать null-значения и дубликаты\n",
        "*  Аггрегировать данные (как в SQL 😏  )\n",
        "*  Сортировать данные\n",
        "*  Строить сводные таблицы (как в Excel 😏 )\n",
        "* Объединять датафреймы\n",
        "*  Строить простые графики \n",
        "\n",
        "\n"
      ]
    },
    {
      "cell_type": "markdown",
      "metadata": {
        "id": "7kte_wNFQr_T",
        "colab_type": "text"
      },
      "source": [
        "Найдем самых лояльных покупателей\n",
        "\n",
        "Построим сводную таблицу по пользователям \n",
        "\n",
        "Разделим покупателей на когорты\n",
        "\n",
        "*Посмотрим,как строится retention по когортам\n",
        "\n",
        " \n"
      ]
    },
    {
      "cell_type": "code",
      "metadata": {
        "id": "iBmFNyAZ6JOn",
        "colab_type": "code",
        "colab": {}
      },
      "source": [
        "import pandas as pd\n",
        "import seaborn as sns"
      ],
      "execution_count": 0,
      "outputs": []
    },
    {
      "cell_type": "code",
      "metadata": {
        "id": "ARU_Q-NRmfNG",
        "colab_type": "code",
        "colab": {}
      },
      "source": [
        "#читаем данные из csv, который находится в zip-файле на github\n",
        "#с параметрами read_csv можно ознакомиться https://pandas.pydata.org/pandas-docs/stable/reference/api/pandas.read_csv.html\n",
        "\n",
        "url = 'https://github.com/daryamukh/Python-for-data-analysis/blob/master/ecommerce-data.zip?raw=true'\n",
        "df = pd.read_csv(url , encoding='ISO-8859-1',compression='zip')"
      ],
      "execution_count": 0,
      "outputs": []
    },
    {
      "cell_type": "code",
      "metadata": {
        "id": "Hb6HoZIA7JLd",
        "colab_type": "code",
        "outputId": "9a238e5f-b7e0-4952-d905-e7968bd16947",
        "colab": {
          "base_uri": "https://localhost:8080/",
          "height": 204
        }
      },
      "source": [
        "# предназначен для просмотра первых n строк таблицы (по умолчанию n=5)\n",
        "df.head()"
      ],
      "execution_count": 0,
      "outputs": [
        {
          "output_type": "execute_result",
          "data": {
            "text/html": [
              "<div>\n",
              "<style scoped>\n",
              "    .dataframe tbody tr th:only-of-type {\n",
              "        vertical-align: middle;\n",
              "    }\n",
              "\n",
              "    .dataframe tbody tr th {\n",
              "        vertical-align: top;\n",
              "    }\n",
              "\n",
              "    .dataframe thead th {\n",
              "        text-align: right;\n",
              "    }\n",
              "</style>\n",
              "<table border=\"1\" class=\"dataframe\">\n",
              "  <thead>\n",
              "    <tr style=\"text-align: right;\">\n",
              "      <th></th>\n",
              "      <th>InvoiceNo</th>\n",
              "      <th>StockCode</th>\n",
              "      <th>Description</th>\n",
              "      <th>Quantity</th>\n",
              "      <th>InvoiceDate</th>\n",
              "      <th>UnitPrice</th>\n",
              "      <th>CustomerID</th>\n",
              "      <th>Country</th>\n",
              "    </tr>\n",
              "  </thead>\n",
              "  <tbody>\n",
              "    <tr>\n",
              "      <th>0</th>\n",
              "      <td>536365</td>\n",
              "      <td>85123A</td>\n",
              "      <td>WHITE HANGING HEART T-LIGHT HOLDER</td>\n",
              "      <td>6</td>\n",
              "      <td>12/1/2010 8:26</td>\n",
              "      <td>2.55</td>\n",
              "      <td>17850.0</td>\n",
              "      <td>United Kingdom</td>\n",
              "    </tr>\n",
              "    <tr>\n",
              "      <th>1</th>\n",
              "      <td>536365</td>\n",
              "      <td>71053</td>\n",
              "      <td>WHITE METAL LANTERN</td>\n",
              "      <td>6</td>\n",
              "      <td>12/1/2010 8:26</td>\n",
              "      <td>3.39</td>\n",
              "      <td>17850.0</td>\n",
              "      <td>United Kingdom</td>\n",
              "    </tr>\n",
              "    <tr>\n",
              "      <th>2</th>\n",
              "      <td>536365</td>\n",
              "      <td>84406B</td>\n",
              "      <td>CREAM CUPID HEARTS COAT HANGER</td>\n",
              "      <td>8</td>\n",
              "      <td>12/1/2010 8:26</td>\n",
              "      <td>2.75</td>\n",
              "      <td>17850.0</td>\n",
              "      <td>United Kingdom</td>\n",
              "    </tr>\n",
              "    <tr>\n",
              "      <th>3</th>\n",
              "      <td>536365</td>\n",
              "      <td>84029G</td>\n",
              "      <td>KNITTED UNION FLAG HOT WATER BOTTLE</td>\n",
              "      <td>6</td>\n",
              "      <td>12/1/2010 8:26</td>\n",
              "      <td>3.39</td>\n",
              "      <td>17850.0</td>\n",
              "      <td>United Kingdom</td>\n",
              "    </tr>\n",
              "    <tr>\n",
              "      <th>4</th>\n",
              "      <td>536365</td>\n",
              "      <td>84029E</td>\n",
              "      <td>RED WOOLLY HOTTIE WHITE HEART.</td>\n",
              "      <td>6</td>\n",
              "      <td>12/1/2010 8:26</td>\n",
              "      <td>3.39</td>\n",
              "      <td>17850.0</td>\n",
              "      <td>United Kingdom</td>\n",
              "    </tr>\n",
              "  </tbody>\n",
              "</table>\n",
              "</div>"
            ],
            "text/plain": [
              "  InvoiceNo StockCode                          Description  Quantity  \\\n",
              "0    536365    85123A   WHITE HANGING HEART T-LIGHT HOLDER         6   \n",
              "1    536365     71053                  WHITE METAL LANTERN         6   \n",
              "2    536365    84406B       CREAM CUPID HEARTS COAT HANGER         8   \n",
              "3    536365    84029G  KNITTED UNION FLAG HOT WATER BOTTLE         6   \n",
              "4    536365    84029E       RED WOOLLY HOTTIE WHITE HEART.         6   \n",
              "\n",
              "      InvoiceDate  UnitPrice  CustomerID         Country  \n",
              "0  12/1/2010 8:26       2.55     17850.0  United Kingdom  \n",
              "1  12/1/2010 8:26       3.39     17850.0  United Kingdom  \n",
              "2  12/1/2010 8:26       2.75     17850.0  United Kingdom  \n",
              "3  12/1/2010 8:26       3.39     17850.0  United Kingdom  \n",
              "4  12/1/2010 8:26       3.39     17850.0  United Kingdom  "
            ]
          },
          "metadata": {
            "tags": []
          },
          "execution_count": 21
        }
      ]
    },
    {
      "cell_type": "code",
      "metadata": {
        "id": "HEo0_p-a24pZ",
        "colab_type": "code",
        "outputId": "0c7d9d42-ac0e-4e9d-dd24-ddfbc63d6325",
        "colab": {
          "base_uri": "https://localhost:8080/",
          "height": 204
        }
      },
      "source": [
        "#last 5 rows pandas dataframe\n",
        "df.tail()"
      ],
      "execution_count": 0,
      "outputs": [
        {
          "output_type": "execute_result",
          "data": {
            "text/html": [
              "<div>\n",
              "<style scoped>\n",
              "    .dataframe tbody tr th:only-of-type {\n",
              "        vertical-align: middle;\n",
              "    }\n",
              "\n",
              "    .dataframe tbody tr th {\n",
              "        vertical-align: top;\n",
              "    }\n",
              "\n",
              "    .dataframe thead th {\n",
              "        text-align: right;\n",
              "    }\n",
              "</style>\n",
              "<table border=\"1\" class=\"dataframe\">\n",
              "  <thead>\n",
              "    <tr style=\"text-align: right;\">\n",
              "      <th></th>\n",
              "      <th>InvoiceNo</th>\n",
              "      <th>StockCode</th>\n",
              "      <th>Description</th>\n",
              "      <th>Quantity</th>\n",
              "      <th>InvoiceDate</th>\n",
              "      <th>UnitPrice</th>\n",
              "      <th>CustomerID</th>\n",
              "      <th>Country</th>\n",
              "    </tr>\n",
              "  </thead>\n",
              "  <tbody>\n",
              "    <tr>\n",
              "      <th>541904</th>\n",
              "      <td>581587</td>\n",
              "      <td>22613</td>\n",
              "      <td>PACK OF 20 SPACEBOY NAPKINS</td>\n",
              "      <td>12</td>\n",
              "      <td>12/9/2011 12:50</td>\n",
              "      <td>0.85</td>\n",
              "      <td>12680.0</td>\n",
              "      <td>France</td>\n",
              "    </tr>\n",
              "    <tr>\n",
              "      <th>541905</th>\n",
              "      <td>581587</td>\n",
              "      <td>22899</td>\n",
              "      <td>CHILDREN'S APRON DOLLY GIRL</td>\n",
              "      <td>6</td>\n",
              "      <td>12/9/2011 12:50</td>\n",
              "      <td>2.10</td>\n",
              "      <td>12680.0</td>\n",
              "      <td>France</td>\n",
              "    </tr>\n",
              "    <tr>\n",
              "      <th>541906</th>\n",
              "      <td>581587</td>\n",
              "      <td>23254</td>\n",
              "      <td>CHILDRENS CUTLERY DOLLY GIRL</td>\n",
              "      <td>4</td>\n",
              "      <td>12/9/2011 12:50</td>\n",
              "      <td>4.15</td>\n",
              "      <td>12680.0</td>\n",
              "      <td>France</td>\n",
              "    </tr>\n",
              "    <tr>\n",
              "      <th>541907</th>\n",
              "      <td>581587</td>\n",
              "      <td>23255</td>\n",
              "      <td>CHILDRENS CUTLERY CIRCUS PARADE</td>\n",
              "      <td>4</td>\n",
              "      <td>12/9/2011 12:50</td>\n",
              "      <td>4.15</td>\n",
              "      <td>12680.0</td>\n",
              "      <td>France</td>\n",
              "    </tr>\n",
              "    <tr>\n",
              "      <th>541908</th>\n",
              "      <td>581587</td>\n",
              "      <td>22138</td>\n",
              "      <td>BAKING SET 9 PIECE RETROSPOT</td>\n",
              "      <td>3</td>\n",
              "      <td>12/9/2011 12:50</td>\n",
              "      <td>4.95</td>\n",
              "      <td>12680.0</td>\n",
              "      <td>France</td>\n",
              "    </tr>\n",
              "  </tbody>\n",
              "</table>\n",
              "</div>"
            ],
            "text/plain": [
              "       InvoiceNo StockCode                      Description  Quantity  \\\n",
              "541904    581587     22613      PACK OF 20 SPACEBOY NAPKINS        12   \n",
              "541905    581587     22899     CHILDREN'S APRON DOLLY GIRL          6   \n",
              "541906    581587     23254    CHILDRENS CUTLERY DOLLY GIRL          4   \n",
              "541907    581587     23255  CHILDRENS CUTLERY CIRCUS PARADE         4   \n",
              "541908    581587     22138    BAKING SET 9 PIECE RETROSPOT          3   \n",
              "\n",
              "            InvoiceDate  UnitPrice  CustomerID Country  \n",
              "541904  12/9/2011 12:50       0.85     12680.0  France  \n",
              "541905  12/9/2011 12:50       2.10     12680.0  France  \n",
              "541906  12/9/2011 12:50       4.15     12680.0  France  \n",
              "541907  12/9/2011 12:50       4.15     12680.0  France  \n",
              "541908  12/9/2011 12:50       4.95     12680.0  France  "
            ]
          },
          "metadata": {
            "tags": []
          },
          "execution_count": 22
        }
      ]
    },
    {
      "cell_type": "code",
      "metadata": {
        "id": "1fld-n197QiX",
        "colab_type": "code",
        "outputId": "529d340b-8954-425b-b610-c0457e66c179",
        "colab": {
          "base_uri": "https://localhost:8080/",
          "height": 297
        }
      },
      "source": [
        "# позволяет собрать некоторую статистику по каждому числовому признаку\n",
        "df.describe() "
      ],
      "execution_count": 0,
      "outputs": [
        {
          "output_type": "execute_result",
          "data": {
            "text/html": [
              "<div>\n",
              "<style scoped>\n",
              "    .dataframe tbody tr th:only-of-type {\n",
              "        vertical-align: middle;\n",
              "    }\n",
              "\n",
              "    .dataframe tbody tr th {\n",
              "        vertical-align: top;\n",
              "    }\n",
              "\n",
              "    .dataframe thead th {\n",
              "        text-align: right;\n",
              "    }\n",
              "</style>\n",
              "<table border=\"1\" class=\"dataframe\">\n",
              "  <thead>\n",
              "    <tr style=\"text-align: right;\">\n",
              "      <th></th>\n",
              "      <th>Quantity</th>\n",
              "      <th>UnitPrice</th>\n",
              "      <th>CustomerID</th>\n",
              "    </tr>\n",
              "  </thead>\n",
              "  <tbody>\n",
              "    <tr>\n",
              "      <th>count</th>\n",
              "      <td>541909.000000</td>\n",
              "      <td>541909.000000</td>\n",
              "      <td>406829.000000</td>\n",
              "    </tr>\n",
              "    <tr>\n",
              "      <th>mean</th>\n",
              "      <td>9.552250</td>\n",
              "      <td>4.611114</td>\n",
              "      <td>15287.690570</td>\n",
              "    </tr>\n",
              "    <tr>\n",
              "      <th>std</th>\n",
              "      <td>218.081158</td>\n",
              "      <td>96.759853</td>\n",
              "      <td>1713.600303</td>\n",
              "    </tr>\n",
              "    <tr>\n",
              "      <th>min</th>\n",
              "      <td>-80995.000000</td>\n",
              "      <td>-11062.060000</td>\n",
              "      <td>12346.000000</td>\n",
              "    </tr>\n",
              "    <tr>\n",
              "      <th>25%</th>\n",
              "      <td>1.000000</td>\n",
              "      <td>1.250000</td>\n",
              "      <td>13953.000000</td>\n",
              "    </tr>\n",
              "    <tr>\n",
              "      <th>50%</th>\n",
              "      <td>3.000000</td>\n",
              "      <td>2.080000</td>\n",
              "      <td>15152.000000</td>\n",
              "    </tr>\n",
              "    <tr>\n",
              "      <th>75%</th>\n",
              "      <td>10.000000</td>\n",
              "      <td>4.130000</td>\n",
              "      <td>16791.000000</td>\n",
              "    </tr>\n",
              "    <tr>\n",
              "      <th>max</th>\n",
              "      <td>80995.000000</td>\n",
              "      <td>38970.000000</td>\n",
              "      <td>18287.000000</td>\n",
              "    </tr>\n",
              "  </tbody>\n",
              "</table>\n",
              "</div>"
            ],
            "text/plain": [
              "            Quantity      UnitPrice     CustomerID\n",
              "count  541909.000000  541909.000000  406829.000000\n",
              "mean        9.552250       4.611114   15287.690570\n",
              "std       218.081158      96.759853    1713.600303\n",
              "min    -80995.000000  -11062.060000   12346.000000\n",
              "25%         1.000000       1.250000   13953.000000\n",
              "50%         3.000000       2.080000   15152.000000\n",
              "75%        10.000000       4.130000   16791.000000\n",
              "max     80995.000000   38970.000000   18287.000000"
            ]
          },
          "metadata": {
            "tags": []
          },
          "execution_count": 23
        }
      ]
    },
    {
      "cell_type": "code",
      "metadata": {
        "id": "qVw3PZNAFR8b",
        "colab_type": "code",
        "outputId": "9ea5ad7e-4289-462a-d5f7-dc837696aa18",
        "colab": {
          "base_uri": "https://localhost:8080/",
          "height": 238
        }
      },
      "source": [
        "# позволяет вывести общую информацию \n",
        "df.info()"
      ],
      "execution_count": 0,
      "outputs": [
        {
          "output_type": "stream",
          "text": [
            "<class 'pandas.core.frame.DataFrame'>\n",
            "RangeIndex: 541909 entries, 0 to 541908\n",
            "Data columns (total 8 columns):\n",
            "InvoiceNo      541909 non-null object\n",
            "StockCode      541909 non-null object\n",
            "Description    540455 non-null object\n",
            "Quantity       541909 non-null int64\n",
            "InvoiceDate    541909 non-null object\n",
            "UnitPrice      541909 non-null float64\n",
            "CustomerID     406829 non-null float64\n",
            "Country        541909 non-null object\n",
            "dtypes: float64(2), int64(1), object(5)\n",
            "memory usage: 33.1+ MB\n"
          ],
          "name": "stdout"
        }
      ]
    },
    {
      "cell_type": "markdown",
      "metadata": {
        "id": "GU5AMaN6IF_g",
        "colab_type": "text"
      },
      "source": [
        "## Null"
      ]
    },
    {
      "cell_type": "code",
      "metadata": {
        "id": "WClVjbfNUoB2",
        "colab_type": "code",
        "outputId": "5f71e39e-1ecf-43d8-e895-1308df6c72fc",
        "colab": {
          "base_uri": "https://localhost:8080/",
          "height": 49
        }
      },
      "source": [
        "#аналог where / order by / limit в sql \n",
        "df[df.CustomerID.isnull()].sort_values('UnitPrice')"
      ],
      "execution_count": 0,
      "outputs": [
        {
          "output_type": "execute_result",
          "data": {
            "text/html": [
              "<div>\n",
              "<style scoped>\n",
              "    .dataframe tbody tr th:only-of-type {\n",
              "        vertical-align: middle;\n",
              "    }\n",
              "\n",
              "    .dataframe tbody tr th {\n",
              "        vertical-align: top;\n",
              "    }\n",
              "\n",
              "    .dataframe thead th {\n",
              "        text-align: right;\n",
              "    }\n",
              "</style>\n",
              "<table border=\"1\" class=\"dataframe\">\n",
              "  <thead>\n",
              "    <tr style=\"text-align: right;\">\n",
              "      <th></th>\n",
              "      <th>InvoiceNo</th>\n",
              "      <th>StockCode</th>\n",
              "      <th>Description</th>\n",
              "      <th>Quantity</th>\n",
              "      <th>InvoiceDate</th>\n",
              "      <th>UnitPrice</th>\n",
              "      <th>CustomerID</th>\n",
              "      <th>Country</th>\n",
              "    </tr>\n",
              "  </thead>\n",
              "  <tbody>\n",
              "  </tbody>\n",
              "</table>\n",
              "</div>"
            ],
            "text/plain": [
              "Empty DataFrame\n",
              "Columns: [InvoiceNo, StockCode, Description, Quantity, InvoiceDate, UnitPrice, CustomerID, Country]\n",
              "Index: []"
            ]
          },
          "metadata": {
            "tags": []
          },
          "execution_count": 28
        }
      ]
    },
    {
      "cell_type": "code",
      "metadata": {
        "id": "ctu1YKFN_r9_",
        "colab_type": "code",
        "cellView": "code",
        "colab": {}
      },
      "source": [
        "#оставляем данные только с заполненным id пользователя  и ненулевыми ценами за товар\n",
        "df=df[(df.CustomerID.notnull()) & (df.UnitPrice!=0)]"
      ],
      "execution_count": 0,
      "outputs": []
    },
    {
      "cell_type": "code",
      "metadata": {
        "id": "WzrJXThGA5K2",
        "colab_type": "code",
        "colab": {}
      },
      "source": [
        ""
      ],
      "execution_count": 0,
      "outputs": []
    },
    {
      "cell_type": "markdown",
      "metadata": {
        "id": "o2GaC1c3GT6z",
        "colab_type": "text"
      },
      "source": [
        "## Duplicates"
      ]
    },
    {
      "cell_type": "code",
      "metadata": {
        "id": "FfmcydLRqq4S",
        "colab_type": "code",
        "outputId": "643139ed-b612-4c1e-bafd-3c06fc57ad09",
        "colab": {
          "base_uri": "https://localhost:8080/",
          "height": 34
        }
      },
      "source": [
        "df.duplicated().sum()\n"
      ],
      "execution_count": 0,
      "outputs": [
        {
          "output_type": "execute_result",
          "data": {
            "text/plain": [
              "5225"
            ]
          },
          "metadata": {
            "tags": []
          },
          "execution_count": 29
        }
      ]
    },
    {
      "cell_type": "code",
      "metadata": {
        "id": "eQaWUgmoqznJ",
        "colab_type": "code",
        "outputId": "28a1daba-f554-4d46-956d-edb8c3b8b789",
        "colab": {
          "base_uri": "https://localhost:8080/",
          "height": 34
        }
      },
      "source": [
        "df.shape"
      ],
      "execution_count": 0,
      "outputs": [
        {
          "output_type": "execute_result",
          "data": {
            "text/plain": [
              "(406789, 8)"
            ]
          },
          "metadata": {
            "tags": []
          },
          "execution_count": 30
        }
      ]
    },
    {
      "cell_type": "code",
      "metadata": {
        "id": "hTf5rmMIlMzM",
        "colab_type": "code",
        "outputId": "4b6ffb0b-afb6-43d6-d935-331284fd7645",
        "colab": {
          "base_uri": "https://localhost:8080/",
          "height": 34
        }
      },
      "source": [
        "#pandas inplace=True\n",
        "df.drop_duplicates(inplace=True)\n",
        "df.shape"
      ],
      "execution_count": 0,
      "outputs": [
        {
          "output_type": "execute_result",
          "data": {
            "text/plain": [
              "(401564, 8)"
            ]
          },
          "metadata": {
            "tags": []
          },
          "execution_count": 31
        }
      ]
    },
    {
      "cell_type": "markdown",
      "metadata": {
        "id": "zg12xmJOdo5F",
        "colab_type": "text"
      },
      "source": [
        "##Тип данных"
      ]
    },
    {
      "cell_type": "code",
      "metadata": {
        "id": "zeKtOk5NWyCR",
        "colab_type": "code",
        "colab": {}
      },
      "source": [
        "df.CustomerID = df.CustomerID.astype('int64')\n"
      ],
      "execution_count": 0,
      "outputs": []
    },
    {
      "cell_type": "code",
      "metadata": {
        "id": "f9JUOquB_fCJ",
        "colab_type": "code",
        "colab": {}
      },
      "source": [
        "df['InvoiceDate'] = pd.to_datetime(df['InvoiceDate'],infer_datetime_format=True)"
      ],
      "execution_count": 0,
      "outputs": []
    },
    {
      "cell_type": "markdown",
      "metadata": {
        "id": "DRofAvYFhQWJ",
        "colab_type": "text"
      },
      "source": [
        "## **Страны** "
      ]
    },
    {
      "cell_type": "code",
      "metadata": {
        "id": "1O5_0LSSwDmD",
        "colab_type": "code",
        "outputId": "ebc9cf2b-edfa-4e61-9c45-1565d07d31ec",
        "colab": {
          "base_uri": "https://localhost:8080/",
          "height": 119
        }
      },
      "source": [
        "#транзакции по странам, сортировка по умолчанию\n",
        "df.Country.value_counts().head()"
      ],
      "execution_count": 0,
      "outputs": [
        {
          "output_type": "execute_result",
          "data": {
            "text/plain": [
              "United Kingdom    356704\n",
              "Germany             9478\n",
              "France              8474\n",
              "EIRE                7473\n",
              "Spain               2527\n",
              "Name: Country, dtype: int64"
            ]
          },
          "metadata": {
            "tags": []
          },
          "execution_count": 36
        }
      ]
    },
    {
      "cell_type": "code",
      "metadata": {
        "id": "3XVTlTu8RzQU",
        "colab_type": "code",
        "outputId": "40be8dd5-5ae5-4d74-f441-6804e332bd9a",
        "colab": {
          "base_uri": "https://localhost:8080/",
          "height": 136
        }
      },
      "source": [
        "#нам нужен аналог count distinct в pandas - nunique()\n",
        "#groupby работает аналогично операции GROUP BY в SQL и позволяет группировать данные, вычисляя затем агрегированные показатели в каждой группе.\n",
        "countries=df.groupby(by='Country').CustomerID.nunique().sort_values(ascending=False)\n",
        "countries.head()"
      ],
      "execution_count": 0,
      "outputs": [
        {
          "output_type": "execute_result",
          "data": {
            "text/plain": [
              "Country\n",
              "United Kingdom    3949\n",
              "Germany             95\n",
              "France              87\n",
              "Spain               31\n",
              "Belgium             25\n",
              "Name: CustomerID, dtype: int64"
            ]
          },
          "metadata": {
            "tags": []
          },
          "execution_count": 37
        }
      ]
    },
    {
      "cell_type": "markdown",
      "metadata": {
        "id": "m9oRPcIg-aYZ",
        "colab_type": "text"
      },
      "source": [
        "## **Выручка**"
      ]
    },
    {
      "cell_type": "code",
      "metadata": {
        "id": "nXdWZwGg9L6A",
        "colab_type": "code",
        "outputId": "2732b71b-21ae-47da-8438-2f535c06fe29",
        "colab": {
          "base_uri": "https://localhost:8080/",
          "height": 204
        }
      },
      "source": [
        "#создадим новый столбец\n",
        "df['Revenue']=df['Quantity']*df['UnitPrice']\n",
        "#добавим месяц покупки\n",
        "# гуглим, что делает dt.strftime('%Y - %m')\n",
        "df['InvoiceMonth'] = df['InvoiceDate'].dt.strftime('%Y-%m') \n",
        "df.head() "
      ],
      "execution_count": 0,
      "outputs": [
        {
          "output_type": "execute_result",
          "data": {
            "text/html": [
              "<div>\n",
              "<style scoped>\n",
              "    .dataframe tbody tr th:only-of-type {\n",
              "        vertical-align: middle;\n",
              "    }\n",
              "\n",
              "    .dataframe tbody tr th {\n",
              "        vertical-align: top;\n",
              "    }\n",
              "\n",
              "    .dataframe thead th {\n",
              "        text-align: right;\n",
              "    }\n",
              "</style>\n",
              "<table border=\"1\" class=\"dataframe\">\n",
              "  <thead>\n",
              "    <tr style=\"text-align: right;\">\n",
              "      <th></th>\n",
              "      <th>InvoiceNo</th>\n",
              "      <th>StockCode</th>\n",
              "      <th>Description</th>\n",
              "      <th>Quantity</th>\n",
              "      <th>InvoiceDate</th>\n",
              "      <th>UnitPrice</th>\n",
              "      <th>CustomerID</th>\n",
              "      <th>Country</th>\n",
              "      <th>Revenue</th>\n",
              "      <th>InvoiceMonth</th>\n",
              "    </tr>\n",
              "  </thead>\n",
              "  <tbody>\n",
              "    <tr>\n",
              "      <th>0</th>\n",
              "      <td>536365</td>\n",
              "      <td>85123A</td>\n",
              "      <td>WHITE HANGING HEART T-LIGHT HOLDER</td>\n",
              "      <td>6</td>\n",
              "      <td>2010-12-01 08:26:00</td>\n",
              "      <td>2.55</td>\n",
              "      <td>17850</td>\n",
              "      <td>United Kingdom</td>\n",
              "      <td>15.30</td>\n",
              "      <td>2010-12</td>\n",
              "    </tr>\n",
              "    <tr>\n",
              "      <th>1</th>\n",
              "      <td>536365</td>\n",
              "      <td>71053</td>\n",
              "      <td>WHITE METAL LANTERN</td>\n",
              "      <td>6</td>\n",
              "      <td>2010-12-01 08:26:00</td>\n",
              "      <td>3.39</td>\n",
              "      <td>17850</td>\n",
              "      <td>United Kingdom</td>\n",
              "      <td>20.34</td>\n",
              "      <td>2010-12</td>\n",
              "    </tr>\n",
              "    <tr>\n",
              "      <th>2</th>\n",
              "      <td>536365</td>\n",
              "      <td>84406B</td>\n",
              "      <td>CREAM CUPID HEARTS COAT HANGER</td>\n",
              "      <td>8</td>\n",
              "      <td>2010-12-01 08:26:00</td>\n",
              "      <td>2.75</td>\n",
              "      <td>17850</td>\n",
              "      <td>United Kingdom</td>\n",
              "      <td>22.00</td>\n",
              "      <td>2010-12</td>\n",
              "    </tr>\n",
              "    <tr>\n",
              "      <th>3</th>\n",
              "      <td>536365</td>\n",
              "      <td>84029G</td>\n",
              "      <td>KNITTED UNION FLAG HOT WATER BOTTLE</td>\n",
              "      <td>6</td>\n",
              "      <td>2010-12-01 08:26:00</td>\n",
              "      <td>3.39</td>\n",
              "      <td>17850</td>\n",
              "      <td>United Kingdom</td>\n",
              "      <td>20.34</td>\n",
              "      <td>2010-12</td>\n",
              "    </tr>\n",
              "    <tr>\n",
              "      <th>4</th>\n",
              "      <td>536365</td>\n",
              "      <td>84029E</td>\n",
              "      <td>RED WOOLLY HOTTIE WHITE HEART.</td>\n",
              "      <td>6</td>\n",
              "      <td>2010-12-01 08:26:00</td>\n",
              "      <td>3.39</td>\n",
              "      <td>17850</td>\n",
              "      <td>United Kingdom</td>\n",
              "      <td>20.34</td>\n",
              "      <td>2010-12</td>\n",
              "    </tr>\n",
              "  </tbody>\n",
              "</table>\n",
              "</div>"
            ],
            "text/plain": [
              "  InvoiceNo StockCode                          Description  Quantity  \\\n",
              "0    536365    85123A   WHITE HANGING HEART T-LIGHT HOLDER         6   \n",
              "1    536365     71053                  WHITE METAL LANTERN         6   \n",
              "2    536365    84406B       CREAM CUPID HEARTS COAT HANGER         8   \n",
              "3    536365    84029G  KNITTED UNION FLAG HOT WATER BOTTLE         6   \n",
              "4    536365    84029E       RED WOOLLY HOTTIE WHITE HEART.         6   \n",
              "\n",
              "          InvoiceDate  UnitPrice  CustomerID         Country  Revenue  \\\n",
              "0 2010-12-01 08:26:00       2.55       17850  United Kingdom    15.30   \n",
              "1 2010-12-01 08:26:00       3.39       17850  United Kingdom    20.34   \n",
              "2 2010-12-01 08:26:00       2.75       17850  United Kingdom    22.00   \n",
              "3 2010-12-01 08:26:00       3.39       17850  United Kingdom    20.34   \n",
              "4 2010-12-01 08:26:00       3.39       17850  United Kingdom    20.34   \n",
              "\n",
              "  InvoiceMonth  \n",
              "0      2010-12  \n",
              "1      2010-12  \n",
              "2      2010-12  \n",
              "3      2010-12  \n",
              "4      2010-12  "
            ]
          },
          "metadata": {
            "tags": []
          },
          "execution_count": 38
        }
      ]
    },
    {
      "cell_type": "code",
      "metadata": {
        "id": "tGJia2jW-4fI",
        "colab_type": "code",
        "outputId": "2cac6fff-fed0-447e-89ae-0864dd0ba8b6",
        "colab": {
          "base_uri": "https://localhost:8080/",
          "height": 335
        }
      },
      "source": [
        "#выручка по месяцам\n",
        "df.groupby(['InvoiceMonth'])['Revenue'].sum().plot(kind='bar')"
      ],
      "execution_count": 0,
      "outputs": [
        {
          "output_type": "execute_result",
          "data": {
            "text/plain": [
              "<matplotlib.axes._subplots.AxesSubplot at 0x7f4a6b50e0f0>"
            ]
          },
          "metadata": {
            "tags": []
          },
          "execution_count": 41
        },
        {
          "output_type": "display_data",
          "data": {
            "image/png": "[encoded data removed]",
            "text/plain": [
              "<Figure size 432x288 with 1 Axes>"
            ]
          },
          "metadata": {
            "tags": []
          }
        }
      ]
    },
    {
      "cell_type": "code",
      "metadata": {
        "id": "DGr9ztJ2W6tw",
        "colab_type": "code",
        "outputId": "319f221f-0a6d-48dd-c403-e74f5431d237",
        "colab": {
          "base_uri": "https://localhost:8080/",
          "height": 335
        }
      },
      "source": [
        "#уникальные покупатели по месяцам\n",
        "df.groupby(['InvoiceMonth'])['CustomerID'].nunique().plot(kind='bar')"
      ],
      "execution_count": 0,
      "outputs": [
        {
          "output_type": "execute_result",
          "data": {
            "text/plain": [
              "<matplotlib.axes._subplots.AxesSubplot at 0x7f4a6b4cc828>"
            ]
          },
          "metadata": {
            "tags": []
          },
          "execution_count": 42
        },
        {
          "output_type": "display_data",
          "data": {
            "image/png": "[encoded data removed]",
            "text/plain": [
              "<Figure size 432x288 with 1 Axes>"
            ]
          },
          "metadata": {
            "tags": []
          }
        }
      ]
    },
    {
      "cell_type": "code",
      "metadata": {
        "id": "NcPe6gQjAJ-8",
        "colab_type": "code",
        "outputId": "6bed61f6-55ee-4277-f2a4-cca303b395bb",
        "colab": {
          "base_uri": "https://localhost:8080/",
          "height": 250
        }
      },
      "source": [
        "#сводная таблица выручка по пользователям\n",
        "table=pd.pivot_table(df[df.Country=='Australia'], index=['Country','CustomerID'], columns='InvoiceMonth', aggfunc=sum, values='Revenue',fill_value=0 )\n",
        "\n",
        "\n",
        "cm = sns.light_palette(\"green\", as_cmap=True)\n",
        "table.style.background_gradient(cmap=cm)\n",
        "\n",
        "#table.style.highlight_max(axis=1)"
      ],
      "execution_count": 0,
      "outputs": [
        {
          "output_type": "execute_result",
          "data": {
            "text/html": [
              "<style  type=\"text/css\" >\n",
              "    #T_7a0096b8_65e5_11e9_b7f9_0242ac1c0002row0_col0 {\n",
              "            background-color:  #8cce8c;\n",
              "            color:  #000000;\n",
              "        }    #T_7a0096b8_65e5_11e9_b7f9_0242ac1c0002row0_col1 {\n",
              "            background-color:  #e1fde1;\n",
              "            color:  #000000;\n",
              "        }    #T_7a0096b8_65e5_11e9_b7f9_0242ac1c0002row0_col2 {\n",
              "            background-color:  #e5ffe5;\n",
              "            color:  #000000;\n",
              "        }    #T_7a0096b8_65e5_11e9_b7f9_0242ac1c0002row0_col3 {\n",
              "            background-color:  #e5ffe5;\n",
              "            color:  #000000;\n",
              "        }    #T_7a0096b8_65e5_11e9_b7f9_0242ac1c0002row0_col4 {\n",
              "            background-color:  #c3ecc3;\n",
              "            color:  #000000;\n",
              "        }    #T_7a0096b8_65e5_11e9_b7f9_0242ac1c0002row0_col5 {\n",
              "            background-color:  #e5ffe5;\n",
              "            color:  #000000;\n",
              "        }    #T_7a0096b8_65e5_11e9_b7f9_0242ac1c0002row0_col6 {\n",
              "            background-color:  #e5ffe5;\n",
              "            color:  #000000;\n",
              "        }    #T_7a0096b8_65e5_11e9_b7f9_0242ac1c0002row0_col7 {\n",
              "            background-color:  #e5ffe5;\n",
              "            color:  #000000;\n",
              "        }    #T_7a0096b8_65e5_11e9_b7f9_0242ac1c0002row0_col8 {\n",
              "            background-color:  #e5ffe5;\n",
              "            color:  #000000;\n",
              "        }    #T_7a0096b8_65e5_11e9_b7f9_0242ac1c0002row0_col9 {\n",
              "            background-color:  #e5ffe5;\n",
              "            color:  #000000;\n",
              "        }    #T_7a0096b8_65e5_11e9_b7f9_0242ac1c0002row0_col10 {\n",
              "            background-color:  #e5ffe5;\n",
              "            color:  #000000;\n",
              "        }    #T_7a0096b8_65e5_11e9_b7f9_0242ac1c0002row0_col11 {\n",
              "            background-color:  #e5ffe5;\n",
              "            color:  #000000;\n",
              "        }    #T_7a0096b8_65e5_11e9_b7f9_0242ac1c0002row1_col0 {\n",
              "            background-color:  #ddfbdd;\n",
              "            color:  #000000;\n",
              "        }    #T_7a0096b8_65e5_11e9_b7f9_0242ac1c0002row1_col1 {\n",
              "            background-color:  #d8f8d8;\n",
              "            color:  #000000;\n",
              "        }    #T_7a0096b8_65e5_11e9_b7f9_0242ac1c0002row1_col2 {\n",
              "            background-color:  #e4fee4;\n",
              "            color:  #000000;\n",
              "        }    #T_7a0096b8_65e5_11e9_b7f9_0242ac1c0002row1_col3 {\n",
              "            background-color:  #e3fee3;\n",
              "            color:  #000000;\n",
              "        }    #T_7a0096b8_65e5_11e9_b7f9_0242ac1c0002row1_col4 {\n",
              "            background-color:  #c3ecc3;\n",
              "            color:  #000000;\n",
              "        }    #T_7a0096b8_65e5_11e9_b7f9_0242ac1c0002row1_col5 {\n",
              "            background-color:  #e5ffe5;\n",
              "            color:  #000000;\n",
              "        }    #T_7a0096b8_65e5_11e9_b7f9_0242ac1c0002row1_col6 {\n",
              "            background-color:  #e5ffe5;\n",
              "            color:  #000000;\n",
              "        }    #T_7a0096b8_65e5_11e9_b7f9_0242ac1c0002row1_col7 {\n",
              "            background-color:  #9cd69c;\n",
              "            color:  #000000;\n",
              "        }    #T_7a0096b8_65e5_11e9_b7f9_0242ac1c0002row1_col8 {\n",
              "            background-color:  #e5ffe5;\n",
              "            color:  #000000;\n",
              "        }    #T_7a0096b8_65e5_11e9_b7f9_0242ac1c0002row1_col9 {\n",
              "            background-color:  #a6dca6;\n",
              "            color:  #000000;\n",
              "        }    #T_7a0096b8_65e5_11e9_b7f9_0242ac1c0002row1_col10 {\n",
              "            background-color:  #e5ffe5;\n",
              "            color:  #000000;\n",
              "        }    #T_7a0096b8_65e5_11e9_b7f9_0242ac1c0002row1_col11 {\n",
              "            background-color:  #dbf9db;\n",
              "            color:  #000000;\n",
              "        }    #T_7a0096b8_65e5_11e9_b7f9_0242ac1c0002row2_col0 {\n",
              "            background-color:  #ddfbdd;\n",
              "            color:  #000000;\n",
              "        }    #T_7a0096b8_65e5_11e9_b7f9_0242ac1c0002row2_col1 {\n",
              "            background-color:  #d1f4d1;\n",
              "            color:  #000000;\n",
              "        }    #T_7a0096b8_65e5_11e9_b7f9_0242ac1c0002row2_col2 {\n",
              "            background-color:  #e5ffe5;\n",
              "            color:  #000000;\n",
              "        }    #T_7a0096b8_65e5_11e9_b7f9_0242ac1c0002row2_col3 {\n",
              "            background-color:  #e5ffe5;\n",
              "            color:  #000000;\n",
              "        }    #T_7a0096b8_65e5_11e9_b7f9_0242ac1c0002row2_col4 {\n",
              "            background-color:  #008000;\n",
              "            color:  #f1f1f1;\n",
              "        }    #T_7a0096b8_65e5_11e9_b7f9_0242ac1c0002row2_col5 {\n",
              "            background-color:  #e5ffe5;\n",
              "            color:  #000000;\n",
              "        }    #T_7a0096b8_65e5_11e9_b7f9_0242ac1c0002row2_col6 {\n",
              "            background-color:  #e5ffe5;\n",
              "            color:  #000000;\n",
              "        }    #T_7a0096b8_65e5_11e9_b7f9_0242ac1c0002row2_col7 {\n",
              "            background-color:  #e5ffe5;\n",
              "            color:  #000000;\n",
              "        }    #T_7a0096b8_65e5_11e9_b7f9_0242ac1c0002row2_col8 {\n",
              "            background-color:  #e5ffe5;\n",
              "            color:  #000000;\n",
              "        }    #T_7a0096b8_65e5_11e9_b7f9_0242ac1c0002row2_col9 {\n",
              "            background-color:  #bde9bd;\n",
              "            color:  #000000;\n",
              "        }    #T_7a0096b8_65e5_11e9_b7f9_0242ac1c0002row2_col10 {\n",
              "            background-color:  #e5ffe5;\n",
              "            color:  #000000;\n",
              "        }    #T_7a0096b8_65e5_11e9_b7f9_0242ac1c0002row2_col11 {\n",
              "            background-color:  #e5ffe5;\n",
              "            color:  #000000;\n",
              "        }    #T_7a0096b8_65e5_11e9_b7f9_0242ac1c0002row3_col0 {\n",
              "            background-color:  #ddfbdd;\n",
              "            color:  #000000;\n",
              "        }    #T_7a0096b8_65e5_11e9_b7f9_0242ac1c0002row3_col1 {\n",
              "            background-color:  #008000;\n",
              "            color:  #f1f1f1;\n",
              "        }    #T_7a0096b8_65e5_11e9_b7f9_0242ac1c0002row3_col2 {\n",
              "            background-color:  #008000;\n",
              "            color:  #f1f1f1;\n",
              "        }    #T_7a0096b8_65e5_11e9_b7f9_0242ac1c0002row3_col3 {\n",
              "            background-color:  #008000;\n",
              "            color:  #f1f1f1;\n",
              "        }    #T_7a0096b8_65e5_11e9_b7f9_0242ac1c0002row3_col4 {\n",
              "            background-color:  #e5ffe5;\n",
              "            color:  #000000;\n",
              "        }    #T_7a0096b8_65e5_11e9_b7f9_0242ac1c0002row3_col5 {\n",
              "            background-color:  #008000;\n",
              "            color:  #f1f1f1;\n",
              "        }    #T_7a0096b8_65e5_11e9_b7f9_0242ac1c0002row3_col6 {\n",
              "            background-color:  #008000;\n",
              "            color:  #f1f1f1;\n",
              "        }    #T_7a0096b8_65e5_11e9_b7f9_0242ac1c0002row3_col7 {\n",
              "            background-color:  #008000;\n",
              "            color:  #f1f1f1;\n",
              "        }    #T_7a0096b8_65e5_11e9_b7f9_0242ac1c0002row3_col8 {\n",
              "            background-color:  #008000;\n",
              "            color:  #f1f1f1;\n",
              "        }    #T_7a0096b8_65e5_11e9_b7f9_0242ac1c0002row3_col9 {\n",
              "            background-color:  #008000;\n",
              "            color:  #f1f1f1;\n",
              "        }    #T_7a0096b8_65e5_11e9_b7f9_0242ac1c0002row3_col10 {\n",
              "            background-color:  #008000;\n",
              "            color:  #f1f1f1;\n",
              "        }    #T_7a0096b8_65e5_11e9_b7f9_0242ac1c0002row3_col11 {\n",
              "            background-color:  #008000;\n",
              "            color:  #f1f1f1;\n",
              "        }    #T_7a0096b8_65e5_11e9_b7f9_0242ac1c0002row4_col0 {\n",
              "            background-color:  #ddfbdd;\n",
              "            color:  #000000;\n",
              "        }    #T_7a0096b8_65e5_11e9_b7f9_0242ac1c0002row4_col1 {\n",
              "            background-color:  #defbde;\n",
              "            color:  #000000;\n",
              "        }    #T_7a0096b8_65e5_11e9_b7f9_0242ac1c0002row4_col2 {\n",
              "            background-color:  #e5ffe5;\n",
              "            color:  #000000;\n",
              "        }    #T_7a0096b8_65e5_11e9_b7f9_0242ac1c0002row4_col3 {\n",
              "            background-color:  #e5ffe5;\n",
              "            color:  #000000;\n",
              "        }    #T_7a0096b8_65e5_11e9_b7f9_0242ac1c0002row4_col4 {\n",
              "            background-color:  #c3ecc3;\n",
              "            color:  #000000;\n",
              "        }    #T_7a0096b8_65e5_11e9_b7f9_0242ac1c0002row4_col5 {\n",
              "            background-color:  #e5ffe5;\n",
              "            color:  #000000;\n",
              "        }    #T_7a0096b8_65e5_11e9_b7f9_0242ac1c0002row4_col6 {\n",
              "            background-color:  #e5ffe5;\n",
              "            color:  #000000;\n",
              "        }    #T_7a0096b8_65e5_11e9_b7f9_0242ac1c0002row4_col7 {\n",
              "            background-color:  #e5ffe5;\n",
              "            color:  #000000;\n",
              "        }    #T_7a0096b8_65e5_11e9_b7f9_0242ac1c0002row4_col8 {\n",
              "            background-color:  #e5ffe5;\n",
              "            color:  #000000;\n",
              "        }    #T_7a0096b8_65e5_11e9_b7f9_0242ac1c0002row4_col9 {\n",
              "            background-color:  #dbf9db;\n",
              "            color:  #000000;\n",
              "        }    #T_7a0096b8_65e5_11e9_b7f9_0242ac1c0002row4_col10 {\n",
              "            background-color:  #e5ffe5;\n",
              "            color:  #000000;\n",
              "        }    #T_7a0096b8_65e5_11e9_b7f9_0242ac1c0002row4_col11 {\n",
              "            background-color:  #e5ffe5;\n",
              "            color:  #000000;\n",
              "        }    #T_7a0096b8_65e5_11e9_b7f9_0242ac1c0002row5_col0 {\n",
              "            background-color:  #ddfbdd;\n",
              "            color:  #000000;\n",
              "        }    #T_7a0096b8_65e5_11e9_b7f9_0242ac1c0002row5_col1 {\n",
              "            background-color:  #e5ffe5;\n",
              "            color:  #000000;\n",
              "        }    #T_7a0096b8_65e5_11e9_b7f9_0242ac1c0002row5_col2 {\n",
              "            background-color:  #e5ffe5;\n",
              "            color:  #000000;\n",
              "        }    #T_7a0096b8_65e5_11e9_b7f9_0242ac1c0002row5_col3 {\n",
              "            background-color:  #e5ffe5;\n",
              "            color:  #000000;\n",
              "        }    #T_7a0096b8_65e5_11e9_b7f9_0242ac1c0002row5_col4 {\n",
              "            background-color:  #c3ecc3;\n",
              "            color:  #000000;\n",
              "        }    #T_7a0096b8_65e5_11e9_b7f9_0242ac1c0002row5_col5 {\n",
              "            background-color:  #e5ffe5;\n",
              "            color:  #000000;\n",
              "        }    #T_7a0096b8_65e5_11e9_b7f9_0242ac1c0002row5_col6 {\n",
              "            background-color:  #d4f6d4;\n",
              "            color:  #000000;\n",
              "        }    #T_7a0096b8_65e5_11e9_b7f9_0242ac1c0002row5_col7 {\n",
              "            background-color:  #e5ffe5;\n",
              "            color:  #000000;\n",
              "        }    #T_7a0096b8_65e5_11e9_b7f9_0242ac1c0002row5_col8 {\n",
              "            background-color:  #e5ffe5;\n",
              "            color:  #000000;\n",
              "        }    #T_7a0096b8_65e5_11e9_b7f9_0242ac1c0002row5_col9 {\n",
              "            background-color:  #e5ffe5;\n",
              "            color:  #000000;\n",
              "        }    #T_7a0096b8_65e5_11e9_b7f9_0242ac1c0002row5_col10 {\n",
              "            background-color:  #e5ffe5;\n",
              "            color:  #000000;\n",
              "        }    #T_7a0096b8_65e5_11e9_b7f9_0242ac1c0002row5_col11 {\n",
              "            background-color:  #e5ffe5;\n",
              "            color:  #000000;\n",
              "        }    #T_7a0096b8_65e5_11e9_b7f9_0242ac1c0002row6_col0 {\n",
              "            background-color:  #008000;\n",
              "            color:  #f1f1f1;\n",
              "        }    #T_7a0096b8_65e5_11e9_b7f9_0242ac1c0002row6_col1 {\n",
              "            background-color:  #daf9da;\n",
              "            color:  #000000;\n",
              "        }    #T_7a0096b8_65e5_11e9_b7f9_0242ac1c0002row6_col2 {\n",
              "            background-color:  #dffcdf;\n",
              "            color:  #000000;\n",
              "        }    #T_7a0096b8_65e5_11e9_b7f9_0242ac1c0002row6_col3 {\n",
              "            background-color:  #e5ffe5;\n",
              "            color:  #000000;\n",
              "        }    #T_7a0096b8_65e5_11e9_b7f9_0242ac1c0002row6_col4 {\n",
              "            background-color:  #c3ecc3;\n",
              "            color:  #000000;\n",
              "        }    #T_7a0096b8_65e5_11e9_b7f9_0242ac1c0002row6_col5 {\n",
              "            background-color:  #d5f6d5;\n",
              "            color:  #000000;\n",
              "        }    #T_7a0096b8_65e5_11e9_b7f9_0242ac1c0002row6_col6 {\n",
              "            background-color:  #e5ffe5;\n",
              "            color:  #000000;\n",
              "        }    #T_7a0096b8_65e5_11e9_b7f9_0242ac1c0002row6_col7 {\n",
              "            background-color:  #8ecf8e;\n",
              "            color:  #000000;\n",
              "        }    #T_7a0096b8_65e5_11e9_b7f9_0242ac1c0002row6_col8 {\n",
              "            background-color:  #dffcdf;\n",
              "            color:  #000000;\n",
              "        }    #T_7a0096b8_65e5_11e9_b7f9_0242ac1c0002row6_col9 {\n",
              "            background-color:  #e5ffe5;\n",
              "            color:  #000000;\n",
              "        }    #T_7a0096b8_65e5_11e9_b7f9_0242ac1c0002row6_col10 {\n",
              "            background-color:  #dcfadc;\n",
              "            color:  #000000;\n",
              "        }    #T_7a0096b8_65e5_11e9_b7f9_0242ac1c0002row6_col11 {\n",
              "            background-color:  #cef2ce;\n",
              "            color:  #000000;\n",
              "        }    #T_7a0096b8_65e5_11e9_b7f9_0242ac1c0002row7_col0 {\n",
              "            background-color:  #e5ffe5;\n",
              "            color:  #000000;\n",
              "        }    #T_7a0096b8_65e5_11e9_b7f9_0242ac1c0002row7_col1 {\n",
              "            background-color:  #e5ffe5;\n",
              "            color:  #000000;\n",
              "        }    #T_7a0096b8_65e5_11e9_b7f9_0242ac1c0002row7_col2 {\n",
              "            background-color:  #e5ffe5;\n",
              "            color:  #000000;\n",
              "        }    #T_7a0096b8_65e5_11e9_b7f9_0242ac1c0002row7_col3 {\n",
              "            background-color:  #e2fde2;\n",
              "            color:  #000000;\n",
              "        }    #T_7a0096b8_65e5_11e9_b7f9_0242ac1c0002row7_col4 {\n",
              "            background-color:  #caf0ca;\n",
              "            color:  #000000;\n",
              "        }    #T_7a0096b8_65e5_11e9_b7f9_0242ac1c0002row7_col5 {\n",
              "            background-color:  #e5ffe5;\n",
              "            color:  #000000;\n",
              "        }    #T_7a0096b8_65e5_11e9_b7f9_0242ac1c0002row7_col6 {\n",
              "            background-color:  #e5ffe5;\n",
              "            color:  #000000;\n",
              "        }    #T_7a0096b8_65e5_11e9_b7f9_0242ac1c0002row7_col7 {\n",
              "            background-color:  #e5ffe5;\n",
              "            color:  #000000;\n",
              "        }    #T_7a0096b8_65e5_11e9_b7f9_0242ac1c0002row7_col8 {\n",
              "            background-color:  #e5ffe5;\n",
              "            color:  #000000;\n",
              "        }    #T_7a0096b8_65e5_11e9_b7f9_0242ac1c0002row7_col9 {\n",
              "            background-color:  #bde9bd;\n",
              "            color:  #000000;\n",
              "        }    #T_7a0096b8_65e5_11e9_b7f9_0242ac1c0002row7_col10 {\n",
              "            background-color:  #e5ffe5;\n",
              "            color:  #000000;\n",
              "        }    #T_7a0096b8_65e5_11e9_b7f9_0242ac1c0002row7_col11 {\n",
              "            background-color:  #e5ffe5;\n",
              "            color:  #000000;\n",
              "        }    #T_7a0096b8_65e5_11e9_b7f9_0242ac1c0002row8_col0 {\n",
              "            background-color:  #ddfbdd;\n",
              "            color:  #000000;\n",
              "        }    #T_7a0096b8_65e5_11e9_b7f9_0242ac1c0002row8_col1 {\n",
              "            background-color:  #e3fee3;\n",
              "            color:  #000000;\n",
              "        }    #T_7a0096b8_65e5_11e9_b7f9_0242ac1c0002row8_col2 {\n",
              "            background-color:  #e5ffe5;\n",
              "            color:  #000000;\n",
              "        }    #T_7a0096b8_65e5_11e9_b7f9_0242ac1c0002row8_col3 {\n",
              "            background-color:  #e5ffe5;\n",
              "            color:  #000000;\n",
              "        }    #T_7a0096b8_65e5_11e9_b7f9_0242ac1c0002row8_col4 {\n",
              "            background-color:  #c3ecc3;\n",
              "            color:  #000000;\n",
              "        }    #T_7a0096b8_65e5_11e9_b7f9_0242ac1c0002row8_col5 {\n",
              "            background-color:  #e5ffe5;\n",
              "            color:  #000000;\n",
              "        }    #T_7a0096b8_65e5_11e9_b7f9_0242ac1c0002row8_col6 {\n",
              "            background-color:  #e5ffe5;\n",
              "            color:  #000000;\n",
              "        }    #T_7a0096b8_65e5_11e9_b7f9_0242ac1c0002row8_col7 {\n",
              "            background-color:  #e5ffe5;\n",
              "            color:  #000000;\n",
              "        }    #T_7a0096b8_65e5_11e9_b7f9_0242ac1c0002row8_col8 {\n",
              "            background-color:  #e5ffe5;\n",
              "            color:  #000000;\n",
              "        }    #T_7a0096b8_65e5_11e9_b7f9_0242ac1c0002row8_col9 {\n",
              "            background-color:  #e0fce0;\n",
              "            color:  #000000;\n",
              "        }    #T_7a0096b8_65e5_11e9_b7f9_0242ac1c0002row8_col10 {\n",
              "            background-color:  #e5ffe5;\n",
              "            color:  #000000;\n",
              "        }    #T_7a0096b8_65e5_11e9_b7f9_0242ac1c0002row8_col11 {\n",
              "            background-color:  #e5ffe5;\n",
              "            color:  #000000;\n",
              "        }</style><table id=\"T_7a0096b8_65e5_11e9_b7f9_0242ac1c0002\" ><thead>    <tr>        <th class=\"blank\" ></th>        <th class=\"index_name level0\" >InvoiceMonth</th>        <th class=\"col_heading level0 col0\" >2010-12</th>        <th class=\"col_heading level0 col1\" >2011-01</th>        <th class=\"col_heading level0 col2\" >2011-02</th>        <th class=\"col_heading level0 col3\" >2011-03</th>        <th class=\"col_heading level0 col4\" >2011-04</th>        <th class=\"col_heading level0 col5\" >2011-05</th>        <th class=\"col_heading level0 col6\" >2011-06</th>        <th class=\"col_heading level0 col7\" >2011-07</th>        <th class=\"col_heading level0 col8\" >2011-08</th>        <th class=\"col_heading level0 col9\" >2011-09</th>        <th class=\"col_heading level0 col10\" >2011-10</th>        <th class=\"col_heading level0 col11\" >2011-11</th>    </tr>    <tr>        <th class=\"index_name level0\" >Country</th>        <th class=\"index_name level1\" >CustomerID</th>        <th class=\"blank\" ></th>        <th class=\"blank\" ></th>        <th class=\"blank\" ></th>        <th class=\"blank\" ></th>        <th class=\"blank\" ></th>        <th class=\"blank\" ></th>        <th class=\"blank\" ></th>        <th class=\"blank\" ></th>        <th class=\"blank\" ></th>        <th class=\"blank\" ></th>        <th class=\"blank\" ></th>        <th class=\"blank\" ></th>    </tr></thead><tbody>\n",
              "                <tr>\n",
              "                        <th id=\"T_7a0096b8_65e5_11e9_b7f9_0242ac1c0002level0_row0\" class=\"row_heading level0 row0\" rowspan=9>Australia</th>\n",
              "                        <th id=\"T_7a0096b8_65e5_11e9_b7f9_0242ac1c0002level1_row0\" class=\"row_heading level1 row0\" >12386</th>\n",
              "                        <td id=\"T_7a0096b8_65e5_11e9_b7f9_0242ac1c0002row0_col0\" class=\"data row0 col0\" >258.9</td>\n",
              "                        <td id=\"T_7a0096b8_65e5_11e9_b7f9_0242ac1c0002row0_col1\" class=\"data row0 col1\" >143</td>\n",
              "                        <td id=\"T_7a0096b8_65e5_11e9_b7f9_0242ac1c0002row0_col2\" class=\"data row0 col2\" >0</td>\n",
              "                        <td id=\"T_7a0096b8_65e5_11e9_b7f9_0242ac1c0002row0_col3\" class=\"data row0 col3\" >0</td>\n",
              "                        <td id=\"T_7a0096b8_65e5_11e9_b7f9_0242ac1c0002row0_col4\" class=\"data row0 col4\" >0</td>\n",
              "                        <td id=\"T_7a0096b8_65e5_11e9_b7f9_0242ac1c0002row0_col5\" class=\"data row0 col5\" >0</td>\n",
              "                        <td id=\"T_7a0096b8_65e5_11e9_b7f9_0242ac1c0002row0_col6\" class=\"data row0 col6\" >0</td>\n",
              "                        <td id=\"T_7a0096b8_65e5_11e9_b7f9_0242ac1c0002row0_col7\" class=\"data row0 col7\" >0</td>\n",
              "                        <td id=\"T_7a0096b8_65e5_11e9_b7f9_0242ac1c0002row0_col8\" class=\"data row0 col8\" >0</td>\n",
              "                        <td id=\"T_7a0096b8_65e5_11e9_b7f9_0242ac1c0002row0_col9\" class=\"data row0 col9\" >0</td>\n",
              "                        <td id=\"T_7a0096b8_65e5_11e9_b7f9_0242ac1c0002row0_col10\" class=\"data row0 col10\" >0</td>\n",
              "                        <td id=\"T_7a0096b8_65e5_11e9_b7f9_0242ac1c0002row0_col11\" class=\"data row0 col11\" >0</td>\n",
              "            </tr>\n",
              "            <tr>\n",
              "                                <th id=\"T_7a0096b8_65e5_11e9_b7f9_0242ac1c0002level1_row1\" class=\"row_heading level1 row1\" >12388</th>\n",
              "                        <td id=\"T_7a0096b8_65e5_11e9_b7f9_0242ac1c0002row1_col0\" class=\"data row1 col0\" >0</td>\n",
              "                        <td id=\"T_7a0096b8_65e5_11e9_b7f9_0242ac1c0002row1_col1\" class=\"data row1 col1\" >431.3</td>\n",
              "                        <td id=\"T_7a0096b8_65e5_11e9_b7f9_0242ac1c0002row1_col2\" class=\"data row1 col2\" >124.05</td>\n",
              "                        <td id=\"T_7a0096b8_65e5_11e9_b7f9_0242ac1c0002row1_col3\" class=\"data row1 col3\" >210.9</td>\n",
              "                        <td id=\"T_7a0096b8_65e5_11e9_b7f9_0242ac1c0002row1_col4\" class=\"data row1 col4\" >0</td>\n",
              "                        <td id=\"T_7a0096b8_65e5_11e9_b7f9_0242ac1c0002row1_col5\" class=\"data row1 col5\" >0</td>\n",
              "                        <td id=\"T_7a0096b8_65e5_11e9_b7f9_0242ac1c0002row1_col6\" class=\"data row1 col6\" >0</td>\n",
              "                        <td id=\"T_7a0096b8_65e5_11e9_b7f9_0242ac1c0002row1_col7\" class=\"data row1 col7\" >902.09</td>\n",
              "                        <td id=\"T_7a0096b8_65e5_11e9_b7f9_0242ac1c0002row1_col8\" class=\"data row1 col8\" >0</td>\n",
              "                        <td id=\"T_7a0096b8_65e5_11e9_b7f9_0242ac1c0002row1_col9\" class=\"data row1 col9\" >825.92</td>\n",
              "                        <td id=\"T_7a0096b8_65e5_11e9_b7f9_0242ac1c0002row1_col10\" class=\"data row1 col10\" >0</td>\n",
              "                        <td id=\"T_7a0096b8_65e5_11e9_b7f9_0242ac1c0002row1_col11\" class=\"data row1 col11\" >286.4</td>\n",
              "            </tr>\n",
              "            <tr>\n",
              "                                <th id=\"T_7a0096b8_65e5_11e9_b7f9_0242ac1c0002level1_row2\" class=\"row_heading level1 row2\" >12393</th>\n",
              "                        <td id=\"T_7a0096b8_65e5_11e9_b7f9_0242ac1c0002row2_col0\" class=\"data row2 col0\" >0</td>\n",
              "                        <td id=\"T_7a0096b8_65e5_11e9_b7f9_0242ac1c0002row2_col1\" class=\"data row2 col1\" >639.5</td>\n",
              "                        <td id=\"T_7a0096b8_65e5_11e9_b7f9_0242ac1c0002row2_col2\" class=\"data row2 col2\" >0</td>\n",
              "                        <td id=\"T_7a0096b8_65e5_11e9_b7f9_0242ac1c0002row2_col3\" class=\"data row2 col3\" >0</td>\n",
              "                        <td id=\"T_7a0096b8_65e5_11e9_b7f9_0242ac1c0002row2_col4\" class=\"data row2 col4\" >421.6</td>\n",
              "                        <td id=\"T_7a0096b8_65e5_11e9_b7f9_0242ac1c0002row2_col5\" class=\"data row2 col5\" >0</td>\n",
              "                        <td id=\"T_7a0096b8_65e5_11e9_b7f9_0242ac1c0002row2_col6\" class=\"data row2 col6\" >0</td>\n",
              "                        <td id=\"T_7a0096b8_65e5_11e9_b7f9_0242ac1c0002row2_col7\" class=\"data row2 col7\" >0</td>\n",
              "                        <td id=\"T_7a0096b8_65e5_11e9_b7f9_0242ac1c0002row2_col8\" class=\"data row2 col8\" >0</td>\n",
              "                        <td id=\"T_7a0096b8_65e5_11e9_b7f9_0242ac1c0002row2_col9\" class=\"data row2 col9\" >521.5</td>\n",
              "                        <td id=\"T_7a0096b8_65e5_11e9_b7f9_0242ac1c0002row2_col10\" class=\"data row2 col10\" >0</td>\n",
              "                        <td id=\"T_7a0096b8_65e5_11e9_b7f9_0242ac1c0002row2_col11\" class=\"data row2 col11\" >0</td>\n",
              "            </tr>\n",
              "            <tr>\n",
              "                                <th id=\"T_7a0096b8_65e5_11e9_b7f9_0242ac1c0002level1_row3\" class=\"row_heading level1 row3\" >12415</th>\n",
              "                        <td id=\"T_7a0096b8_65e5_11e9_b7f9_0242ac1c0002row3_col0\" class=\"data row3 col0\" >0</td>\n",
              "                        <td id=\"T_7a0096b8_65e5_11e9_b7f9_0242ac1c0002row3_col1\" class=\"data row3 col1\" >7092.98</td>\n",
              "                        <td id=\"T_7a0096b8_65e5_11e9_b7f9_0242ac1c0002row3_col2\" class=\"data row3 col2\" >14022.9</td>\n",
              "                        <td id=\"T_7a0096b8_65e5_11e9_b7f9_0242ac1c0002row3_col3\" class=\"data row3 col3\" >16558.1</td>\n",
              "                        <td id=\"T_7a0096b8_65e5_11e9_b7f9_0242ac1c0002row3_col4\" class=\"data row3 col4\" >-75</td>\n",
              "                        <td id=\"T_7a0096b8_65e5_11e9_b7f9_0242ac1c0002row3_col5\" class=\"data row3 col5\" >12691.2</td>\n",
              "                        <td id=\"T_7a0096b8_65e5_11e9_b7f9_0242ac1c0002row3_col6\" class=\"data row3 col6\" >23426.8</td>\n",
              "                        <td id=\"T_7a0096b8_65e5_11e9_b7f9_0242ac1c0002row3_col7\" class=\"data row3 col7\" >2796.36</td>\n",
              "                        <td id=\"T_7a0096b8_65e5_11e9_b7f9_0242ac1c0002row3_col8\" class=\"data row3 col8\" >21880.4</td>\n",
              "                        <td id=\"T_7a0096b8_65e5_11e9_b7f9_0242ac1c0002row3_col9\" class=\"data row3 col9\" >2941.72</td>\n",
              "                        <td id=\"T_7a0096b8_65e5_11e9_b7f9_0242ac1c0002row3_col10\" class=\"data row3 col10\" >16471.8</td>\n",
              "                        <td id=\"T_7a0096b8_65e5_11e9_b7f9_0242ac1c0002row3_col11\" class=\"data row3 col11\" >5918.15</td>\n",
              "            </tr>\n",
              "            <tr>\n",
              "                                <th id=\"T_7a0096b8_65e5_11e9_b7f9_0242ac1c0002level1_row4\" class=\"row_heading level1 row4\" >12422</th>\n",
              "                        <td id=\"T_7a0096b8_65e5_11e9_b7f9_0242ac1c0002row4_col0\" class=\"data row4 col0\" >0</td>\n",
              "                        <td id=\"T_7a0096b8_65e5_11e9_b7f9_0242ac1c0002row4_col1\" class=\"data row4 col1\" >238.5</td>\n",
              "                        <td id=\"T_7a0096b8_65e5_11e9_b7f9_0242ac1c0002row4_col2\" class=\"data row4 col2\" >0</td>\n",
              "                        <td id=\"T_7a0096b8_65e5_11e9_b7f9_0242ac1c0002row4_col3\" class=\"data row4 col3\" >0</td>\n",
              "                        <td id=\"T_7a0096b8_65e5_11e9_b7f9_0242ac1c0002row4_col4\" class=\"data row4 col4\" >0</td>\n",
              "                        <td id=\"T_7a0096b8_65e5_11e9_b7f9_0242ac1c0002row4_col5\" class=\"data row4 col5\" >0</td>\n",
              "                        <td id=\"T_7a0096b8_65e5_11e9_b7f9_0242ac1c0002row4_col6\" class=\"data row4 col6\" >0</td>\n",
              "                        <td id=\"T_7a0096b8_65e5_11e9_b7f9_0242ac1c0002row4_col7\" class=\"data row4 col7\" >0</td>\n",
              "                        <td id=\"T_7a0096b8_65e5_11e9_b7f9_0242ac1c0002row4_col8\" class=\"data row4 col8\" >0</td>\n",
              "                        <td id=\"T_7a0096b8_65e5_11e9_b7f9_0242ac1c0002row4_col9\" class=\"data row4 col9\" >147.7</td>\n",
              "                        <td id=\"T_7a0096b8_65e5_11e9_b7f9_0242ac1c0002row4_col10\" class=\"data row4 col10\" >0</td>\n",
              "                        <td id=\"T_7a0096b8_65e5_11e9_b7f9_0242ac1c0002row4_col11\" class=\"data row4 col11\" >0</td>\n",
              "            </tr>\n",
              "            <tr>\n",
              "                                <th id=\"T_7a0096b8_65e5_11e9_b7f9_0242ac1c0002level1_row5\" class=\"row_heading level1 row5\" >12424</th>\n",
              "                        <td id=\"T_7a0096b8_65e5_11e9_b7f9_0242ac1c0002row5_col0\" class=\"data row5 col0\" >0</td>\n",
              "                        <td id=\"T_7a0096b8_65e5_11e9_b7f9_0242ac1c0002row5_col1\" class=\"data row5 col1\" >0</td>\n",
              "                        <td id=\"T_7a0096b8_65e5_11e9_b7f9_0242ac1c0002row5_col2\" class=\"data row5 col2\" >0</td>\n",
              "                        <td id=\"T_7a0096b8_65e5_11e9_b7f9_0242ac1c0002row5_col3\" class=\"data row5 col3\" >0</td>\n",
              "                        <td id=\"T_7a0096b8_65e5_11e9_b7f9_0242ac1c0002row5_col4\" class=\"data row5 col4\" >0</td>\n",
              "                        <td id=\"T_7a0096b8_65e5_11e9_b7f9_0242ac1c0002row5_col5\" class=\"data row5 col5\" >0</td>\n",
              "                        <td id=\"T_7a0096b8_65e5_11e9_b7f9_0242ac1c0002row5_col6\" class=\"data row5 col6\" >1760.96</td>\n",
              "                        <td id=\"T_7a0096b8_65e5_11e9_b7f9_0242ac1c0002row5_col7\" class=\"data row5 col7\" >0</td>\n",
              "                        <td id=\"T_7a0096b8_65e5_11e9_b7f9_0242ac1c0002row5_col8\" class=\"data row5 col8\" >0</td>\n",
              "                        <td id=\"T_7a0096b8_65e5_11e9_b7f9_0242ac1c0002row5_col9\" class=\"data row5 col9\" >0</td>\n",
              "                        <td id=\"T_7a0096b8_65e5_11e9_b7f9_0242ac1c0002row5_col10\" class=\"data row5 col10\" >0</td>\n",
              "                        <td id=\"T_7a0096b8_65e5_11e9_b7f9_0242ac1c0002row5_col11\" class=\"data row5 col11\" >0</td>\n",
              "            </tr>\n",
              "            <tr>\n",
              "                                <th id=\"T_7a0096b8_65e5_11e9_b7f9_0242ac1c0002level1_row6\" class=\"row_heading level1 row6\" >12431</th>\n",
              "                        <td id=\"T_7a0096b8_65e5_11e9_b7f9_0242ac1c0002row6_col0\" class=\"data row6 col0\" >706.45</td>\n",
              "                        <td id=\"T_7a0096b8_65e5_11e9_b7f9_0242ac1c0002row6_col1\" class=\"data row6 col1\" >384.68</td>\n",
              "                        <td id=\"T_7a0096b8_65e5_11e9_b7f9_0242ac1c0002row6_col2\" class=\"data row6 col2\" >412.55</td>\n",
              "                        <td id=\"T_7a0096b8_65e5_11e9_b7f9_0242ac1c0002row6_col3\" class=\"data row6 col3\" >0</td>\n",
              "                        <td id=\"T_7a0096b8_65e5_11e9_b7f9_0242ac1c0002row6_col4\" class=\"data row6 col4\" >0</td>\n",
              "                        <td id=\"T_7a0096b8_65e5_11e9_b7f9_0242ac1c0002row6_col5\" class=\"data row6 col5\" >937.35</td>\n",
              "                        <td id=\"T_7a0096b8_65e5_11e9_b7f9_0242ac1c0002row6_col6\" class=\"data row6 col6\" >-23</td>\n",
              "                        <td id=\"T_7a0096b8_65e5_11e9_b7f9_0242ac1c0002row6_col7\" class=\"data row6 col7\" >1069.12</td>\n",
              "                        <td id=\"T_7a0096b8_65e5_11e9_b7f9_0242ac1c0002row6_col8\" class=\"data row6 col8\" >608.76</td>\n",
              "                        <td id=\"T_7a0096b8_65e5_11e9_b7f9_0242ac1c0002row6_col9\" class=\"data row6 col9\" >0</td>\n",
              "                        <td id=\"T_7a0096b8_65e5_11e9_b7f9_0242ac1c0002row6_col10\" class=\"data row6 col10\" >678.76</td>\n",
              "                        <td id=\"T_7a0096b8_65e5_11e9_b7f9_0242ac1c0002row6_col11\" class=\"data row6 col11\" >601.44</td>\n",
              "            </tr>\n",
              "            <tr>\n",
              "                                <th id=\"T_7a0096b8_65e5_11e9_b7f9_0242ac1c0002level1_row7\" class=\"row_heading level1 row7\" >12434</th>\n",
              "                        <td id=\"T_7a0096b8_65e5_11e9_b7f9_0242ac1c0002row7_col0\" class=\"data row7 col0\" >-27.75</td>\n",
              "                        <td id=\"T_7a0096b8_65e5_11e9_b7f9_0242ac1c0002row7_col1\" class=\"data row7 col1\" >0</td>\n",
              "                        <td id=\"T_7a0096b8_65e5_11e9_b7f9_0242ac1c0002row7_col2\" class=\"data row7 col2\" >0</td>\n",
              "                        <td id=\"T_7a0096b8_65e5_11e9_b7f9_0242ac1c0002row7_col3\" class=\"data row7 col3\" >286.25</td>\n",
              "                        <td id=\"T_7a0096b8_65e5_11e9_b7f9_0242ac1c0002row7_col4\" class=\"data row7 col4\" >-13.2</td>\n",
              "                        <td id=\"T_7a0096b8_65e5_11e9_b7f9_0242ac1c0002row7_col5\" class=\"data row7 col5\" >0</td>\n",
              "                        <td id=\"T_7a0096b8_65e5_11e9_b7f9_0242ac1c0002row7_col6\" class=\"data row7 col6\" >0</td>\n",
              "                        <td id=\"T_7a0096b8_65e5_11e9_b7f9_0242ac1c0002row7_col7\" class=\"data row7 col7\" >0</td>\n",
              "                        <td id=\"T_7a0096b8_65e5_11e9_b7f9_0242ac1c0002row7_col8\" class=\"data row7 col8\" >0</td>\n",
              "                        <td id=\"T_7a0096b8_65e5_11e9_b7f9_0242ac1c0002row7_col9\" class=\"data row7 col9\" >519.89</td>\n",
              "                        <td id=\"T_7a0096b8_65e5_11e9_b7f9_0242ac1c0002row7_col10\" class=\"data row7 col10\" >0</td>\n",
              "                        <td id=\"T_7a0096b8_65e5_11e9_b7f9_0242ac1c0002row7_col11\" class=\"data row7 col11\" >0</td>\n",
              "            </tr>\n",
              "            <tr>\n",
              "                                <th id=\"T_7a0096b8_65e5_11e9_b7f9_0242ac1c0002level1_row8\" class=\"row_heading level1 row8\" >16321</th>\n",
              "                        <td id=\"T_7a0096b8_65e5_11e9_b7f9_0242ac1c0002row8_col0\" class=\"data row8 col0\" >0</td>\n",
              "                        <td id=\"T_7a0096b8_65e5_11e9_b7f9_0242ac1c0002row8_col1\" class=\"data row8 col1\" >87.75</td>\n",
              "                        <td id=\"T_7a0096b8_65e5_11e9_b7f9_0242ac1c0002row8_col2\" class=\"data row8 col2\" >67.95</td>\n",
              "                        <td id=\"T_7a0096b8_65e5_11e9_b7f9_0242ac1c0002row8_col3\" class=\"data row8 col3\" >0</td>\n",
              "                        <td id=\"T_7a0096b8_65e5_11e9_b7f9_0242ac1c0002row8_col4\" class=\"data row8 col4\" >0</td>\n",
              "                        <td id=\"T_7a0096b8_65e5_11e9_b7f9_0242ac1c0002row8_col5\" class=\"data row8 col5\" >0</td>\n",
              "                        <td id=\"T_7a0096b8_65e5_11e9_b7f9_0242ac1c0002row8_col6\" class=\"data row8 col6\" >0</td>\n",
              "                        <td id=\"T_7a0096b8_65e5_11e9_b7f9_0242ac1c0002row8_col7\" class=\"data row8 col7\" >0</td>\n",
              "                        <td id=\"T_7a0096b8_65e5_11e9_b7f9_0242ac1c0002row8_col8\" class=\"data row8 col8\" >0</td>\n",
              "                        <td id=\"T_7a0096b8_65e5_11e9_b7f9_0242ac1c0002row8_col9\" class=\"data row8 col9\" >75</td>\n",
              "                        <td id=\"T_7a0096b8_65e5_11e9_b7f9_0242ac1c0002row8_col10\" class=\"data row8 col10\" >0</td>\n",
              "                        <td id=\"T_7a0096b8_65e5_11e9_b7f9_0242ac1c0002row8_col11\" class=\"data row8 col11\" >0</td>\n",
              "            </tr>\n",
              "    </tbody></table>"
            ],
            "text/plain": [
              "<pandas.io.formats.style.Styler at 0x7f4a91387ef0>"
            ]
          },
          "metadata": {
            "tags": []
          },
          "execution_count": 43
        }
      ]
    },
    {
      "cell_type": "code",
      "metadata": {
        "id": "9eYabxkTHqlA",
        "colab_type": "code",
        "outputId": "ed09652a-a9f7-4e6a-c0f8-39a6aff1effe",
        "colab": {
          "base_uri": "https://localhost:8080/",
          "height": 34
        }
      },
      "source": [
        "type(table)"
      ],
      "execution_count": 0,
      "outputs": [
        {
          "output_type": "execute_result",
          "data": {
            "text/plain": [
              "pandas.core.frame.DataFrame"
            ]
          },
          "metadata": {
            "tags": []
          },
          "execution_count": 46
        }
      ]
    },
    {
      "cell_type": "markdown",
      "metadata": {
        "id": "rgfi3CwJJMs6",
        "colab_type": "text"
      },
      "source": [
        "## **Покупатели**"
      ]
    },
    {
      "cell_type": "code",
      "metadata": {
        "id": "KGNfW6qiHt4M",
        "colab_type": "code",
        "outputId": "9bd08b5d-b247-4785-f04f-c71ed9952926",
        "colab": {
          "base_uri": "https://localhost:8080/",
          "height": 390
        }
      },
      "source": [
        "products=df.copy()\n",
        "products=products[products.Country=='Australia'].groupby(by=['Country','CustomerID', 'InvoiceNo'], as_index=False)['Revenue'].sum()\n",
        "products=products.groupby(by=['Country','CustomerID']).agg({'InvoiceNo': ['count'], 'Revenue': ['sum','mean']})\n",
        "products"
      ],
      "execution_count": 0,
      "outputs": [
        {
          "output_type": "execute_result",
          "data": {
            "text/html": [
              "<div>\n",
              "<style scoped>\n",
              "    .dataframe tbody tr th:only-of-type {\n",
              "        vertical-align: middle;\n",
              "    }\n",
              "\n",
              "    .dataframe tbody tr th {\n",
              "        vertical-align: top;\n",
              "    }\n",
              "\n",
              "    .dataframe thead tr th {\n",
              "        text-align: left;\n",
              "    }\n",
              "\n",
              "    .dataframe thead tr:last-of-type th {\n",
              "        text-align: right;\n",
              "    }\n",
              "</style>\n",
              "<table border=\"1\" class=\"dataframe\">\n",
              "  <thead>\n",
              "    <tr>\n",
              "      <th></th>\n",
              "      <th></th>\n",
              "      <th>InvoiceNo</th>\n",
              "      <th colspan=\"2\" halign=\"left\">Revenue</th>\n",
              "    </tr>\n",
              "    <tr>\n",
              "      <th></th>\n",
              "      <th></th>\n",
              "      <th>count</th>\n",
              "      <th>sum</th>\n",
              "      <th>mean</th>\n",
              "    </tr>\n",
              "    <tr>\n",
              "      <th>Country</th>\n",
              "      <th>CustomerID</th>\n",
              "      <th></th>\n",
              "      <th></th>\n",
              "      <th></th>\n",
              "    </tr>\n",
              "  </thead>\n",
              "  <tbody>\n",
              "    <tr>\n",
              "      <th rowspan=\"9\" valign=\"top\">Australia</th>\n",
              "      <th>12386</th>\n",
              "      <td>2</td>\n",
              "      <td>401.90</td>\n",
              "      <td>200.950000</td>\n",
              "    </tr>\n",
              "    <tr>\n",
              "      <th>12388</th>\n",
              "      <td>6</td>\n",
              "      <td>2780.66</td>\n",
              "      <td>463.443333</td>\n",
              "    </tr>\n",
              "    <tr>\n",
              "      <th>12393</th>\n",
              "      <td>4</td>\n",
              "      <td>1582.60</td>\n",
              "      <td>395.650000</td>\n",
              "    </tr>\n",
              "    <tr>\n",
              "      <th>12415</th>\n",
              "      <td>26</td>\n",
              "      <td>123725.45</td>\n",
              "      <td>4758.671154</td>\n",
              "    </tr>\n",
              "    <tr>\n",
              "      <th>12422</th>\n",
              "      <td>2</td>\n",
              "      <td>386.20</td>\n",
              "      <td>193.100000</td>\n",
              "    </tr>\n",
              "    <tr>\n",
              "      <th>12424</th>\n",
              "      <td>2</td>\n",
              "      <td>1760.96</td>\n",
              "      <td>880.480000</td>\n",
              "    </tr>\n",
              "    <tr>\n",
              "      <th>12431</th>\n",
              "      <td>16</td>\n",
              "      <td>5376.11</td>\n",
              "      <td>336.006875</td>\n",
              "    </tr>\n",
              "    <tr>\n",
              "      <th>12434</th>\n",
              "      <td>4</td>\n",
              "      <td>765.19</td>\n",
              "      <td>191.297500</td>\n",
              "    </tr>\n",
              "    <tr>\n",
              "      <th>16321</th>\n",
              "      <td>7</td>\n",
              "      <td>230.70</td>\n",
              "      <td>32.957143</td>\n",
              "    </tr>\n",
              "  </tbody>\n",
              "</table>\n",
              "</div>"
            ],
            "text/plain": [
              "                     InvoiceNo    Revenue             \n",
              "                         count        sum         mean\n",
              "Country   CustomerID                                  \n",
              "Australia 12386              2     401.90   200.950000\n",
              "          12388              6    2780.66   463.443333\n",
              "          12393              4    1582.60   395.650000\n",
              "          12415             26  123725.45  4758.671154\n",
              "          12422              2     386.20   193.100000\n",
              "          12424              2    1760.96   880.480000\n",
              "          12431             16    5376.11   336.006875\n",
              "          12434              4     765.19   191.297500\n",
              "          16321              7     230.70    32.957143"
            ]
          },
          "metadata": {
            "tags": []
          },
          "execution_count": 44
        }
      ]
    },
    {
      "cell_type": "code",
      "metadata": {
        "id": "AbhXdp2DNh4H",
        "colab_type": "code",
        "outputId": "5b85f68b-1372-4f51-e859-54f53e9dd21b",
        "colab": {
          "base_uri": "https://localhost:8080/",
          "height": 304
        }
      },
      "source": [
        "table_plus = pd.merge(table,products,  on=['Country','CustomerID'])  \n",
        "table_plus.style.background_gradient(cmap=cm)"
      ],
      "execution_count": 0,
      "outputs": [
        {
          "output_type": "stream",
          "text": [
            "/usr/local/lib/python3.6/dist-packages/pandas/core/reshape/merge.py:522: UserWarning: merging between different levels can give an unintended result (1 levels on the left, 2 on the right)\n",
            "  warnings.warn(msg, UserWarning)\n"
          ],
          "name": "stderr"
        },
        {
          "output_type": "execute_result",
          "data": {
            "text/html": [
              "<style  type=\"text/css\" >\n",
              "    #T_ac5a5b12_65e5_11e9_b7f9_0242ac1c0002row0_col0 {\n",
              "            background-color:  #8cce8c;\n",
              "            color:  #000000;\n",
              "        }    #T_ac5a5b12_65e5_11e9_b7f9_0242ac1c0002row0_col1 {\n",
              "            background-color:  #e1fde1;\n",
              "            color:  #000000;\n",
              "        }    #T_ac5a5b12_65e5_11e9_b7f9_0242ac1c0002row0_col2 {\n",
              "            background-color:  #e5ffe5;\n",
              "            color:  #000000;\n",
              "        }    #T_ac5a5b12_65e5_11e9_b7f9_0242ac1c0002row0_col3 {\n",
              "            background-color:  #e5ffe5;\n",
              "            color:  #000000;\n",
              "        }    #T_ac5a5b12_65e5_11e9_b7f9_0242ac1c0002row0_col4 {\n",
              "            background-color:  #c3ecc3;\n",
              "            color:  #000000;\n",
              "        }    #T_ac5a5b12_65e5_11e9_b7f9_0242ac1c0002row0_col5 {\n",
              "            background-color:  #e5ffe5;\n",
              "            color:  #000000;\n",
              "        }    #T_ac5a5b12_65e5_11e9_b7f9_0242ac1c0002row0_col6 {\n",
              "            background-color:  #e5ffe5;\n",
              "            color:  #000000;\n",
              "        }    #T_ac5a5b12_65e5_11e9_b7f9_0242ac1c0002row0_col7 {\n",
              "            background-color:  #e5ffe5;\n",
              "            color:  #000000;\n",
              "        }    #T_ac5a5b12_65e5_11e9_b7f9_0242ac1c0002row0_col8 {\n",
              "            background-color:  #e5ffe5;\n",
              "            color:  #000000;\n",
              "        }    #T_ac5a5b12_65e5_11e9_b7f9_0242ac1c0002row0_col9 {\n",
              "            background-color:  #e5ffe5;\n",
              "            color:  #000000;\n",
              "        }    #T_ac5a5b12_65e5_11e9_b7f9_0242ac1c0002row0_col10 {\n",
              "            background-color:  #e5ffe5;\n",
              "            color:  #000000;\n",
              "        }    #T_ac5a5b12_65e5_11e9_b7f9_0242ac1c0002row0_col11 {\n",
              "            background-color:  #e5ffe5;\n",
              "            color:  #000000;\n",
              "        }    #T_ac5a5b12_65e5_11e9_b7f9_0242ac1c0002row0_col12 {\n",
              "            background-color:  #e5ffe5;\n",
              "            color:  #000000;\n",
              "        }    #T_ac5a5b12_65e5_11e9_b7f9_0242ac1c0002row0_col13 {\n",
              "            background-color:  #e5ffe5;\n",
              "            color:  #000000;\n",
              "        }    #T_ac5a5b12_65e5_11e9_b7f9_0242ac1c0002row0_col14 {\n",
              "            background-color:  #ddfbdd;\n",
              "            color:  #000000;\n",
              "        }    #T_ac5a5b12_65e5_11e9_b7f9_0242ac1c0002row1_col0 {\n",
              "            background-color:  #ddfbdd;\n",
              "            color:  #000000;\n",
              "        }    #T_ac5a5b12_65e5_11e9_b7f9_0242ac1c0002row1_col1 {\n",
              "            background-color:  #d8f8d8;\n",
              "            color:  #000000;\n",
              "        }    #T_ac5a5b12_65e5_11e9_b7f9_0242ac1c0002row1_col2 {\n",
              "            background-color:  #e4fee4;\n",
              "            color:  #000000;\n",
              "        }    #T_ac5a5b12_65e5_11e9_b7f9_0242ac1c0002row1_col3 {\n",
              "            background-color:  #e3fee3;\n",
              "            color:  #000000;\n",
              "        }    #T_ac5a5b12_65e5_11e9_b7f9_0242ac1c0002row1_col4 {\n",
              "            background-color:  #c3ecc3;\n",
              "            color:  #000000;\n",
              "        }    #T_ac5a5b12_65e5_11e9_b7f9_0242ac1c0002row1_col5 {\n",
              "            background-color:  #e5ffe5;\n",
              "            color:  #000000;\n",
              "        }    #T_ac5a5b12_65e5_11e9_b7f9_0242ac1c0002row1_col6 {\n",
              "            background-color:  #e5ffe5;\n",
              "            color:  #000000;\n",
              "        }    #T_ac5a5b12_65e5_11e9_b7f9_0242ac1c0002row1_col7 {\n",
              "            background-color:  #9cd69c;\n",
              "            color:  #000000;\n",
              "        }    #T_ac5a5b12_65e5_11e9_b7f9_0242ac1c0002row1_col8 {\n",
              "            background-color:  #e5ffe5;\n",
              "            color:  #000000;\n",
              "        }    #T_ac5a5b12_65e5_11e9_b7f9_0242ac1c0002row1_col9 {\n",
              "            background-color:  #a6dca6;\n",
              "            color:  #000000;\n",
              "        }    #T_ac5a5b12_65e5_11e9_b7f9_0242ac1c0002row1_col10 {\n",
              "            background-color:  #e5ffe5;\n",
              "            color:  #000000;\n",
              "        }    #T_ac5a5b12_65e5_11e9_b7f9_0242ac1c0002row1_col11 {\n",
              "            background-color:  #dbf9db;\n",
              "            color:  #000000;\n",
              "        }    #T_ac5a5b12_65e5_11e9_b7f9_0242ac1c0002row1_col12 {\n",
              "            background-color:  #c0eac0;\n",
              "            color:  #000000;\n",
              "        }    #T_ac5a5b12_65e5_11e9_b7f9_0242ac1c0002row1_col13 {\n",
              "            background-color:  #e1fde1;\n",
              "            color:  #000000;\n",
              "        }    #T_ac5a5b12_65e5_11e9_b7f9_0242ac1c0002row1_col14 {\n",
              "            background-color:  #d1f4d1;\n",
              "            color:  #000000;\n",
              "        }    #T_ac5a5b12_65e5_11e9_b7f9_0242ac1c0002row2_col0 {\n",
              "            background-color:  #ddfbdd;\n",
              "            color:  #000000;\n",
              "        }    #T_ac5a5b12_65e5_11e9_b7f9_0242ac1c0002row2_col1 {\n",
              "            background-color:  #d1f4d1;\n",
              "            color:  #000000;\n",
              "        }    #T_ac5a5b12_65e5_11e9_b7f9_0242ac1c0002row2_col2 {\n",
              "            background-color:  #e5ffe5;\n",
              "            color:  #000000;\n",
              "        }    #T_ac5a5b12_65e5_11e9_b7f9_0242ac1c0002row2_col3 {\n",
              "            background-color:  #e5ffe5;\n",
              "            color:  #000000;\n",
              "        }    #T_ac5a5b12_65e5_11e9_b7f9_0242ac1c0002row2_col4 {\n",
              "            background-color:  #008000;\n",
              "            color:  #f1f1f1;\n",
              "        }    #T_ac5a5b12_65e5_11e9_b7f9_0242ac1c0002row2_col5 {\n",
              "            background-color:  #e5ffe5;\n",
              "            color:  #000000;\n",
              "        }    #T_ac5a5b12_65e5_11e9_b7f9_0242ac1c0002row2_col6 {\n",
              "            background-color:  #e5ffe5;\n",
              "            color:  #000000;\n",
              "        }    #T_ac5a5b12_65e5_11e9_b7f9_0242ac1c0002row2_col7 {\n",
              "            background-color:  #e5ffe5;\n",
              "            color:  #000000;\n",
              "        }    #T_ac5a5b12_65e5_11e9_b7f9_0242ac1c0002row2_col8 {\n",
              "            background-color:  #e5ffe5;\n",
              "            color:  #000000;\n",
              "        }    #T_ac5a5b12_65e5_11e9_b7f9_0242ac1c0002row2_col9 {\n",
              "            background-color:  #bde9bd;\n",
              "            color:  #000000;\n",
              "        }    #T_ac5a5b12_65e5_11e9_b7f9_0242ac1c0002row2_col10 {\n",
              "            background-color:  #e5ffe5;\n",
              "            color:  #000000;\n",
              "        }    #T_ac5a5b12_65e5_11e9_b7f9_0242ac1c0002row2_col11 {\n",
              "            background-color:  #e5ffe5;\n",
              "            color:  #000000;\n",
              "        }    #T_ac5a5b12_65e5_11e9_b7f9_0242ac1c0002row2_col12 {\n",
              "            background-color:  #d3f5d3;\n",
              "            color:  #000000;\n",
              "        }    #T_ac5a5b12_65e5_11e9_b7f9_0242ac1c0002row2_col13 {\n",
              "            background-color:  #e4fee4;\n",
              "            color:  #000000;\n",
              "        }    #T_ac5a5b12_65e5_11e9_b7f9_0242ac1c0002row2_col14 {\n",
              "            background-color:  #d4f6d4;\n",
              "            color:  #000000;\n",
              "        }    #T_ac5a5b12_65e5_11e9_b7f9_0242ac1c0002row3_col0 {\n",
              "            background-color:  #ddfbdd;\n",
              "            color:  #000000;\n",
              "        }    #T_ac5a5b12_65e5_11e9_b7f9_0242ac1c0002row3_col1 {\n",
              "            background-color:  #008000;\n",
              "            color:  #f1f1f1;\n",
              "        }    #T_ac5a5b12_65e5_11e9_b7f9_0242ac1c0002row3_col2 {\n",
              "            background-color:  #008000;\n",
              "            color:  #f1f1f1;\n",
              "        }    #T_ac5a5b12_65e5_11e9_b7f9_0242ac1c0002row3_col3 {\n",
              "            background-color:  #008000;\n",
              "            color:  #f1f1f1;\n",
              "        }    #T_ac5a5b12_65e5_11e9_b7f9_0242ac1c0002row3_col4 {\n",
              "            background-color:  #e5ffe5;\n",
              "            color:  #000000;\n",
              "        }    #T_ac5a5b12_65e5_11e9_b7f9_0242ac1c0002row3_col5 {\n",
              "            background-color:  #008000;\n",
              "            color:  #f1f1f1;\n",
              "        }    #T_ac5a5b12_65e5_11e9_b7f9_0242ac1c0002row3_col6 {\n",
              "            background-color:  #008000;\n",
              "            color:  #f1f1f1;\n",
              "        }    #T_ac5a5b12_65e5_11e9_b7f9_0242ac1c0002row3_col7 {\n",
              "            background-color:  #008000;\n",
              "            color:  #f1f1f1;\n",
              "        }    #T_ac5a5b12_65e5_11e9_b7f9_0242ac1c0002row3_col8 {\n",
              "            background-color:  #008000;\n",
              "            color:  #f1f1f1;\n",
              "        }    #T_ac5a5b12_65e5_11e9_b7f9_0242ac1c0002row3_col9 {\n",
              "            background-color:  #008000;\n",
              "            color:  #f1f1f1;\n",
              "        }    #T_ac5a5b12_65e5_11e9_b7f9_0242ac1c0002row3_col10 {\n",
              "            background-color:  #008000;\n",
              "            color:  #f1f1f1;\n",
              "        }    #T_ac5a5b12_65e5_11e9_b7f9_0242ac1c0002row3_col11 {\n",
              "            background-color:  #008000;\n",
              "            color:  #f1f1f1;\n",
              "        }    #T_ac5a5b12_65e5_11e9_b7f9_0242ac1c0002row3_col12 {\n",
              "            background-color:  #008000;\n",
              "            color:  #f1f1f1;\n",
              "        }    #T_ac5a5b12_65e5_11e9_b7f9_0242ac1c0002row3_col13 {\n",
              "            background-color:  #008000;\n",
              "            color:  #f1f1f1;\n",
              "        }    #T_ac5a5b12_65e5_11e9_b7f9_0242ac1c0002row3_col14 {\n",
              "            background-color:  #008000;\n",
              "            color:  #f1f1f1;\n",
              "        }    #T_ac5a5b12_65e5_11e9_b7f9_0242ac1c0002row4_col0 {\n",
              "            background-color:  #ddfbdd;\n",
              "            color:  #000000;\n",
              "        }    #T_ac5a5b12_65e5_11e9_b7f9_0242ac1c0002row4_col1 {\n",
              "            background-color:  #defbde;\n",
              "            color:  #000000;\n",
              "        }    #T_ac5a5b12_65e5_11e9_b7f9_0242ac1c0002row4_col2 {\n",
              "            background-color:  #e5ffe5;\n",
              "            color:  #000000;\n",
              "        }    #T_ac5a5b12_65e5_11e9_b7f9_0242ac1c0002row4_col3 {\n",
              "            background-color:  #e5ffe5;\n",
              "            color:  #000000;\n",
              "        }    #T_ac5a5b12_65e5_11e9_b7f9_0242ac1c0002row4_col4 {\n",
              "            background-color:  #c3ecc3;\n",
              "            color:  #000000;\n",
              "        }    #T_ac5a5b12_65e5_11e9_b7f9_0242ac1c0002row4_col5 {\n",
              "            background-color:  #e5ffe5;\n",
              "            color:  #000000;\n",
              "        }    #T_ac5a5b12_65e5_11e9_b7f9_0242ac1c0002row4_col6 {\n",
              "            background-color:  #e5ffe5;\n",
              "            color:  #000000;\n",
              "        }    #T_ac5a5b12_65e5_11e9_b7f9_0242ac1c0002row4_col7 {\n",
              "            background-color:  #e5ffe5;\n",
              "            color:  #000000;\n",
              "        }    #T_ac5a5b12_65e5_11e9_b7f9_0242ac1c0002row4_col8 {\n",
              "            background-color:  #e5ffe5;\n",
              "            color:  #000000;\n",
              "        }    #T_ac5a5b12_65e5_11e9_b7f9_0242ac1c0002row4_col9 {\n",
              "            background-color:  #dbf9db;\n",
              "            color:  #000000;\n",
              "        }    #T_ac5a5b12_65e5_11e9_b7f9_0242ac1c0002row4_col10 {\n",
              "            background-color:  #e5ffe5;\n",
              "            color:  #000000;\n",
              "        }    #T_ac5a5b12_65e5_11e9_b7f9_0242ac1c0002row4_col11 {\n",
              "            background-color:  #e5ffe5;\n",
              "            color:  #000000;\n",
              "        }    #T_ac5a5b12_65e5_11e9_b7f9_0242ac1c0002row4_col12 {\n",
              "            background-color:  #e5ffe5;\n",
              "            color:  #000000;\n",
              "        }    #T_ac5a5b12_65e5_11e9_b7f9_0242ac1c0002row4_col13 {\n",
              "            background-color:  #e5ffe5;\n",
              "            color:  #000000;\n",
              "        }    #T_ac5a5b12_65e5_11e9_b7f9_0242ac1c0002row4_col14 {\n",
              "            background-color:  #defbde;\n",
              "            color:  #000000;\n",
              "        }    #T_ac5a5b12_65e5_11e9_b7f9_0242ac1c0002row5_col0 {\n",
              "            background-color:  #ddfbdd;\n",
              "            color:  #000000;\n",
              "        }    #T_ac5a5b12_65e5_11e9_b7f9_0242ac1c0002row5_col1 {\n",
              "            background-color:  #e5ffe5;\n",
              "            color:  #000000;\n",
              "        }    #T_ac5a5b12_65e5_11e9_b7f9_0242ac1c0002row5_col2 {\n",
              "            background-color:  #e5ffe5;\n",
              "            color:  #000000;\n",
              "        }    #T_ac5a5b12_65e5_11e9_b7f9_0242ac1c0002row5_col3 {\n",
              "            background-color:  #e5ffe5;\n",
              "            color:  #000000;\n",
              "        }    #T_ac5a5b12_65e5_11e9_b7f9_0242ac1c0002row5_col4 {\n",
              "            background-color:  #c3ecc3;\n",
              "            color:  #000000;\n",
              "        }    #T_ac5a5b12_65e5_11e9_b7f9_0242ac1c0002row5_col5 {\n",
              "            background-color:  #e5ffe5;\n",
              "            color:  #000000;\n",
              "        }    #T_ac5a5b12_65e5_11e9_b7f9_0242ac1c0002row5_col6 {\n",
              "            background-color:  #d4f6d4;\n",
              "            color:  #000000;\n",
              "        }    #T_ac5a5b12_65e5_11e9_b7f9_0242ac1c0002row5_col7 {\n",
              "            background-color:  #e5ffe5;\n",
              "            color:  #000000;\n",
              "        }    #T_ac5a5b12_65e5_11e9_b7f9_0242ac1c0002row5_col8 {\n",
              "            background-color:  #e5ffe5;\n",
              "            color:  #000000;\n",
              "        }    #T_ac5a5b12_65e5_11e9_b7f9_0242ac1c0002row5_col9 {\n",
              "            background-color:  #e5ffe5;\n",
              "            color:  #000000;\n",
              "        }    #T_ac5a5b12_65e5_11e9_b7f9_0242ac1c0002row5_col10 {\n",
              "            background-color:  #e5ffe5;\n",
              "            color:  #000000;\n",
              "        }    #T_ac5a5b12_65e5_11e9_b7f9_0242ac1c0002row5_col11 {\n",
              "            background-color:  #e5ffe5;\n",
              "            color:  #000000;\n",
              "        }    #T_ac5a5b12_65e5_11e9_b7f9_0242ac1c0002row5_col12 {\n",
              "            background-color:  #e5ffe5;\n",
              "            color:  #000000;\n",
              "        }    #T_ac5a5b12_65e5_11e9_b7f9_0242ac1c0002row5_col13 {\n",
              "            background-color:  #e3fee3;\n",
              "            color:  #000000;\n",
              "        }    #T_ac5a5b12_65e5_11e9_b7f9_0242ac1c0002row5_col14 {\n",
              "            background-color:  #bde9bd;\n",
              "            color:  #000000;\n",
              "        }    #T_ac5a5b12_65e5_11e9_b7f9_0242ac1c0002row6_col0 {\n",
              "            background-color:  #008000;\n",
              "            color:  #f1f1f1;\n",
              "        }    #T_ac5a5b12_65e5_11e9_b7f9_0242ac1c0002row6_col1 {\n",
              "            background-color:  #daf9da;\n",
              "            color:  #000000;\n",
              "        }    #T_ac5a5b12_65e5_11e9_b7f9_0242ac1c0002row6_col2 {\n",
              "            background-color:  #dffcdf;\n",
              "            color:  #000000;\n",
              "        }    #T_ac5a5b12_65e5_11e9_b7f9_0242ac1c0002row6_col3 {\n",
              "            background-color:  #e5ffe5;\n",
              "            color:  #000000;\n",
              "        }    #T_ac5a5b12_65e5_11e9_b7f9_0242ac1c0002row6_col4 {\n",
              "            background-color:  #c3ecc3;\n",
              "            color:  #000000;\n",
              "        }    #T_ac5a5b12_65e5_11e9_b7f9_0242ac1c0002row6_col5 {\n",
              "            background-color:  #d5f6d5;\n",
              "            color:  #000000;\n",
              "        }    #T_ac5a5b12_65e5_11e9_b7f9_0242ac1c0002row6_col6 {\n",
              "            background-color:  #e5ffe5;\n",
              "            color:  #000000;\n",
              "        }    #T_ac5a5b12_65e5_11e9_b7f9_0242ac1c0002row6_col7 {\n",
              "            background-color:  #8ecf8e;\n",
              "            color:  #000000;\n",
              "        }    #T_ac5a5b12_65e5_11e9_b7f9_0242ac1c0002row6_col8 {\n",
              "            background-color:  #dffcdf;\n",
              "            color:  #000000;\n",
              "        }    #T_ac5a5b12_65e5_11e9_b7f9_0242ac1c0002row6_col9 {\n",
              "            background-color:  #e5ffe5;\n",
              "            color:  #000000;\n",
              "        }    #T_ac5a5b12_65e5_11e9_b7f9_0242ac1c0002row6_col10 {\n",
              "            background-color:  #dcfadc;\n",
              "            color:  #000000;\n",
              "        }    #T_ac5a5b12_65e5_11e9_b7f9_0242ac1c0002row6_col11 {\n",
              "            background-color:  #cef2ce;\n",
              "            color:  #000000;\n",
              "        }    #T_ac5a5b12_65e5_11e9_b7f9_0242ac1c0002row6_col12 {\n",
              "            background-color:  #5fb55f;\n",
              "            color:  #000000;\n",
              "        }    #T_ac5a5b12_65e5_11e9_b7f9_0242ac1c0002row6_col13 {\n",
              "            background-color:  #dcfadc;\n",
              "            color:  #000000;\n",
              "        }    #T_ac5a5b12_65e5_11e9_b7f9_0242ac1c0002row6_col14 {\n",
              "            background-color:  #d7f7d7;\n",
              "            color:  #000000;\n",
              "        }    #T_ac5a5b12_65e5_11e9_b7f9_0242ac1c0002row7_col0 {\n",
              "            background-color:  #e5ffe5;\n",
              "            color:  #000000;\n",
              "        }    #T_ac5a5b12_65e5_11e9_b7f9_0242ac1c0002row7_col1 {\n",
              "            background-color:  #e5ffe5;\n",
              "            color:  #000000;\n",
              "        }    #T_ac5a5b12_65e5_11e9_b7f9_0242ac1c0002row7_col2 {\n",
              "            background-color:  #e5ffe5;\n",
              "            color:  #000000;\n",
              "        }    #T_ac5a5b12_65e5_11e9_b7f9_0242ac1c0002row7_col3 {\n",
              "            background-color:  #e2fde2;\n",
              "            color:  #000000;\n",
              "        }    #T_ac5a5b12_65e5_11e9_b7f9_0242ac1c0002row7_col4 {\n",
              "            background-color:  #caf0ca;\n",
              "            color:  #000000;\n",
              "        }    #T_ac5a5b12_65e5_11e9_b7f9_0242ac1c0002row7_col5 {\n",
              "            background-color:  #e5ffe5;\n",
              "            color:  #000000;\n",
              "        }    #T_ac5a5b12_65e5_11e9_b7f9_0242ac1c0002row7_col6 {\n",
              "            background-color:  #e5ffe5;\n",
              "            color:  #000000;\n",
              "        }    #T_ac5a5b12_65e5_11e9_b7f9_0242ac1c0002row7_col7 {\n",
              "            background-color:  #e5ffe5;\n",
              "            color:  #000000;\n",
              "        }    #T_ac5a5b12_65e5_11e9_b7f9_0242ac1c0002row7_col8 {\n",
              "            background-color:  #e5ffe5;\n",
              "            color:  #000000;\n",
              "        }    #T_ac5a5b12_65e5_11e9_b7f9_0242ac1c0002row7_col9 {\n",
              "            background-color:  #bde9bd;\n",
              "            color:  #000000;\n",
              "        }    #T_ac5a5b12_65e5_11e9_b7f9_0242ac1c0002row7_col10 {\n",
              "            background-color:  #e5ffe5;\n",
              "            color:  #000000;\n",
              "        }    #T_ac5a5b12_65e5_11e9_b7f9_0242ac1c0002row7_col11 {\n",
              "            background-color:  #e5ffe5;\n",
              "            color:  #000000;\n",
              "        }    #T_ac5a5b12_65e5_11e9_b7f9_0242ac1c0002row7_col12 {\n",
              "            background-color:  #d3f5d3;\n",
              "            color:  #000000;\n",
              "        }    #T_ac5a5b12_65e5_11e9_b7f9_0242ac1c0002row7_col13 {\n",
              "            background-color:  #e5ffe5;\n",
              "            color:  #000000;\n",
              "        }    #T_ac5a5b12_65e5_11e9_b7f9_0242ac1c0002row7_col14 {\n",
              "            background-color:  #defbde;\n",
              "            color:  #000000;\n",
              "        }    #T_ac5a5b12_65e5_11e9_b7f9_0242ac1c0002row8_col0 {\n",
              "            background-color:  #ddfbdd;\n",
              "            color:  #000000;\n",
              "        }    #T_ac5a5b12_65e5_11e9_b7f9_0242ac1c0002row8_col1 {\n",
              "            background-color:  #e3fee3;\n",
              "            color:  #000000;\n",
              "        }    #T_ac5a5b12_65e5_11e9_b7f9_0242ac1c0002row8_col2 {\n",
              "            background-color:  #e5ffe5;\n",
              "            color:  #000000;\n",
              "        }    #T_ac5a5b12_65e5_11e9_b7f9_0242ac1c0002row8_col3 {\n",
              "            background-color:  #e5ffe5;\n",
              "            color:  #000000;\n",
              "        }    #T_ac5a5b12_65e5_11e9_b7f9_0242ac1c0002row8_col4 {\n",
              "            background-color:  #c3ecc3;\n",
              "            color:  #000000;\n",
              "        }    #T_ac5a5b12_65e5_11e9_b7f9_0242ac1c0002row8_col5 {\n",
              "            background-color:  #e5ffe5;\n",
              "            color:  #000000;\n",
              "        }    #T_ac5a5b12_65e5_11e9_b7f9_0242ac1c0002row8_col6 {\n",
              "            background-color:  #e5ffe5;\n",
              "            color:  #000000;\n",
              "        }    #T_ac5a5b12_65e5_11e9_b7f9_0242ac1c0002row8_col7 {\n",
              "            background-color:  #e5ffe5;\n",
              "            color:  #000000;\n",
              "        }    #T_ac5a5b12_65e5_11e9_b7f9_0242ac1c0002row8_col8 {\n",
              "            background-color:  #e5ffe5;\n",
              "            color:  #000000;\n",
              "        }    #T_ac5a5b12_65e5_11e9_b7f9_0242ac1c0002row8_col9 {\n",
              "            background-color:  #e0fce0;\n",
              "            color:  #000000;\n",
              "        }    #T_ac5a5b12_65e5_11e9_b7f9_0242ac1c0002row8_col10 {\n",
              "            background-color:  #e5ffe5;\n",
              "            color:  #000000;\n",
              "        }    #T_ac5a5b12_65e5_11e9_b7f9_0242ac1c0002row8_col11 {\n",
              "            background-color:  #e5ffe5;\n",
              "            color:  #000000;\n",
              "        }    #T_ac5a5b12_65e5_11e9_b7f9_0242ac1c0002row8_col12 {\n",
              "            background-color:  #b6e5b6;\n",
              "            color:  #000000;\n",
              "        }    #T_ac5a5b12_65e5_11e9_b7f9_0242ac1c0002row8_col13 {\n",
              "            background-color:  #e5ffe5;\n",
              "            color:  #000000;\n",
              "        }    #T_ac5a5b12_65e5_11e9_b7f9_0242ac1c0002row8_col14 {\n",
              "            background-color:  #e5ffe5;\n",
              "            color:  #000000;\n",
              "        }</style><table id=\"T_ac5a5b12_65e5_11e9_b7f9_0242ac1c0002\" ><thead>    <tr>        <th class=\"blank\" ></th>        <th class=\"blank level0\" ></th>        <th class=\"col_heading level0 col0\" >2010-12</th>        <th class=\"col_heading level0 col1\" >2011-01</th>        <th class=\"col_heading level0 col2\" >2011-02</th>        <th class=\"col_heading level0 col3\" >2011-03</th>        <th class=\"col_heading level0 col4\" >2011-04</th>        <th class=\"col_heading level0 col5\" >2011-05</th>        <th class=\"col_heading level0 col6\" >2011-06</th>        <th class=\"col_heading level0 col7\" >2011-07</th>        <th class=\"col_heading level0 col8\" >2011-08</th>        <th class=\"col_heading level0 col9\" >2011-09</th>        <th class=\"col_heading level0 col10\" >2011-10</th>        <th class=\"col_heading level0 col11\" >2011-11</th>        <th class=\"col_heading level0 col12\" >('InvoiceNo', 'count')</th>        <th class=\"col_heading level0 col13\" >('Revenue', 'sum')</th>        <th class=\"col_heading level0 col14\" >('Revenue', 'mean')</th>    </tr>    <tr>        <th class=\"index_name level0\" >Country</th>        <th class=\"index_name level1\" >CustomerID</th>        <th class=\"blank\" ></th>        <th class=\"blank\" ></th>        <th class=\"blank\" ></th>        <th class=\"blank\" ></th>        <th class=\"blank\" ></th>        <th class=\"blank\" ></th>        <th class=\"blank\" ></th>        <th class=\"blank\" ></th>        <th class=\"blank\" ></th>        <th class=\"blank\" ></th>        <th class=\"blank\" ></th>        <th class=\"blank\" ></th>        <th class=\"blank\" ></th>        <th class=\"blank\" ></th>        <th class=\"blank\" ></th>    </tr></thead><tbody>\n",
              "                <tr>\n",
              "                        <th id=\"T_ac5a5b12_65e5_11e9_b7f9_0242ac1c0002level0_row0\" class=\"row_heading level0 row0\" rowspan=9>Australia</th>\n",
              "                        <th id=\"T_ac5a5b12_65e5_11e9_b7f9_0242ac1c0002level1_row0\" class=\"row_heading level1 row0\" >12386</th>\n",
              "                        <td id=\"T_ac5a5b12_65e5_11e9_b7f9_0242ac1c0002row0_col0\" class=\"data row0 col0\" >258.9</td>\n",
              "                        <td id=\"T_ac5a5b12_65e5_11e9_b7f9_0242ac1c0002row0_col1\" class=\"data row0 col1\" >143</td>\n",
              "                        <td id=\"T_ac5a5b12_65e5_11e9_b7f9_0242ac1c0002row0_col2\" class=\"data row0 col2\" >0</td>\n",
              "                        <td id=\"T_ac5a5b12_65e5_11e9_b7f9_0242ac1c0002row0_col3\" class=\"data row0 col3\" >0</td>\n",
              "                        <td id=\"T_ac5a5b12_65e5_11e9_b7f9_0242ac1c0002row0_col4\" class=\"data row0 col4\" >0</td>\n",
              "                        <td id=\"T_ac5a5b12_65e5_11e9_b7f9_0242ac1c0002row0_col5\" class=\"data row0 col5\" >0</td>\n",
              "                        <td id=\"T_ac5a5b12_65e5_11e9_b7f9_0242ac1c0002row0_col6\" class=\"data row0 col6\" >0</td>\n",
              "                        <td id=\"T_ac5a5b12_65e5_11e9_b7f9_0242ac1c0002row0_col7\" class=\"data row0 col7\" >0</td>\n",
              "                        <td id=\"T_ac5a5b12_65e5_11e9_b7f9_0242ac1c0002row0_col8\" class=\"data row0 col8\" >0</td>\n",
              "                        <td id=\"T_ac5a5b12_65e5_11e9_b7f9_0242ac1c0002row0_col9\" class=\"data row0 col9\" >0</td>\n",
              "                        <td id=\"T_ac5a5b12_65e5_11e9_b7f9_0242ac1c0002row0_col10\" class=\"data row0 col10\" >0</td>\n",
              "                        <td id=\"T_ac5a5b12_65e5_11e9_b7f9_0242ac1c0002row0_col11\" class=\"data row0 col11\" >0</td>\n",
              "                        <td id=\"T_ac5a5b12_65e5_11e9_b7f9_0242ac1c0002row0_col12\" class=\"data row0 col12\" >2</td>\n",
              "                        <td id=\"T_ac5a5b12_65e5_11e9_b7f9_0242ac1c0002row0_col13\" class=\"data row0 col13\" >401.9</td>\n",
              "                        <td id=\"T_ac5a5b12_65e5_11e9_b7f9_0242ac1c0002row0_col14\" class=\"data row0 col14\" >200.95</td>\n",
              "            </tr>\n",
              "            <tr>\n",
              "                                <th id=\"T_ac5a5b12_65e5_11e9_b7f9_0242ac1c0002level1_row1\" class=\"row_heading level1 row1\" >12388</th>\n",
              "                        <td id=\"T_ac5a5b12_65e5_11e9_b7f9_0242ac1c0002row1_col0\" class=\"data row1 col0\" >0</td>\n",
              "                        <td id=\"T_ac5a5b12_65e5_11e9_b7f9_0242ac1c0002row1_col1\" class=\"data row1 col1\" >431.3</td>\n",
              "                        <td id=\"T_ac5a5b12_65e5_11e9_b7f9_0242ac1c0002row1_col2\" class=\"data row1 col2\" >124.05</td>\n",
              "                        <td id=\"T_ac5a5b12_65e5_11e9_b7f9_0242ac1c0002row1_col3\" class=\"data row1 col3\" >210.9</td>\n",
              "                        <td id=\"T_ac5a5b12_65e5_11e9_b7f9_0242ac1c0002row1_col4\" class=\"data row1 col4\" >0</td>\n",
              "                        <td id=\"T_ac5a5b12_65e5_11e9_b7f9_0242ac1c0002row1_col5\" class=\"data row1 col5\" >0</td>\n",
              "                        <td id=\"T_ac5a5b12_65e5_11e9_b7f9_0242ac1c0002row1_col6\" class=\"data row1 col6\" >0</td>\n",
              "                        <td id=\"T_ac5a5b12_65e5_11e9_b7f9_0242ac1c0002row1_col7\" class=\"data row1 col7\" >902.09</td>\n",
              "                        <td id=\"T_ac5a5b12_65e5_11e9_b7f9_0242ac1c0002row1_col8\" class=\"data row1 col8\" >0</td>\n",
              "                        <td id=\"T_ac5a5b12_65e5_11e9_b7f9_0242ac1c0002row1_col9\" class=\"data row1 col9\" >825.92</td>\n",
              "                        <td id=\"T_ac5a5b12_65e5_11e9_b7f9_0242ac1c0002row1_col10\" class=\"data row1 col10\" >0</td>\n",
              "                        <td id=\"T_ac5a5b12_65e5_11e9_b7f9_0242ac1c0002row1_col11\" class=\"data row1 col11\" >286.4</td>\n",
              "                        <td id=\"T_ac5a5b12_65e5_11e9_b7f9_0242ac1c0002row1_col12\" class=\"data row1 col12\" >6</td>\n",
              "                        <td id=\"T_ac5a5b12_65e5_11e9_b7f9_0242ac1c0002row1_col13\" class=\"data row1 col13\" >2780.66</td>\n",
              "                        <td id=\"T_ac5a5b12_65e5_11e9_b7f9_0242ac1c0002row1_col14\" class=\"data row1 col14\" >463.443</td>\n",
              "            </tr>\n",
              "            <tr>\n",
              "                                <th id=\"T_ac5a5b12_65e5_11e9_b7f9_0242ac1c0002level1_row2\" class=\"row_heading level1 row2\" >12393</th>\n",
              "                        <td id=\"T_ac5a5b12_65e5_11e9_b7f9_0242ac1c0002row2_col0\" class=\"data row2 col0\" >0</td>\n",
              "                        <td id=\"T_ac5a5b12_65e5_11e9_b7f9_0242ac1c0002row2_col1\" class=\"data row2 col1\" >639.5</td>\n",
              "                        <td id=\"T_ac5a5b12_65e5_11e9_b7f9_0242ac1c0002row2_col2\" class=\"data row2 col2\" >0</td>\n",
              "                        <td id=\"T_ac5a5b12_65e5_11e9_b7f9_0242ac1c0002row2_col3\" class=\"data row2 col3\" >0</td>\n",
              "                        <td id=\"T_ac5a5b12_65e5_11e9_b7f9_0242ac1c0002row2_col4\" class=\"data row2 col4\" >421.6</td>\n",
              "                        <td id=\"T_ac5a5b12_65e5_11e9_b7f9_0242ac1c0002row2_col5\" class=\"data row2 col5\" >0</td>\n",
              "                        <td id=\"T_ac5a5b12_65e5_11e9_b7f9_0242ac1c0002row2_col6\" class=\"data row2 col6\" >0</td>\n",
              "                        <td id=\"T_ac5a5b12_65e5_11e9_b7f9_0242ac1c0002row2_col7\" class=\"data row2 col7\" >0</td>\n",
              "                        <td id=\"T_ac5a5b12_65e5_11e9_b7f9_0242ac1c0002row2_col8\" class=\"data row2 col8\" >0</td>\n",
              "                        <td id=\"T_ac5a5b12_65e5_11e9_b7f9_0242ac1c0002row2_col9\" class=\"data row2 col9\" >521.5</td>\n",
              "                        <td id=\"T_ac5a5b12_65e5_11e9_b7f9_0242ac1c0002row2_col10\" class=\"data row2 col10\" >0</td>\n",
              "                        <td id=\"T_ac5a5b12_65e5_11e9_b7f9_0242ac1c0002row2_col11\" class=\"data row2 col11\" >0</td>\n",
              "                        <td id=\"T_ac5a5b12_65e5_11e9_b7f9_0242ac1c0002row2_col12\" class=\"data row2 col12\" >4</td>\n",
              "                        <td id=\"T_ac5a5b12_65e5_11e9_b7f9_0242ac1c0002row2_col13\" class=\"data row2 col13\" >1582.6</td>\n",
              "                        <td id=\"T_ac5a5b12_65e5_11e9_b7f9_0242ac1c0002row2_col14\" class=\"data row2 col14\" >395.65</td>\n",
              "            </tr>\n",
              "            <tr>\n",
              "                                <th id=\"T_ac5a5b12_65e5_11e9_b7f9_0242ac1c0002level1_row3\" class=\"row_heading level1 row3\" >12415</th>\n",
              "                        <td id=\"T_ac5a5b12_65e5_11e9_b7f9_0242ac1c0002row3_col0\" class=\"data row3 col0\" >0</td>\n",
              "                        <td id=\"T_ac5a5b12_65e5_11e9_b7f9_0242ac1c0002row3_col1\" class=\"data row3 col1\" >7092.98</td>\n",
              "                        <td id=\"T_ac5a5b12_65e5_11e9_b7f9_0242ac1c0002row3_col2\" class=\"data row3 col2\" >14022.9</td>\n",
              "                        <td id=\"T_ac5a5b12_65e5_11e9_b7f9_0242ac1c0002row3_col3\" class=\"data row3 col3\" >16558.1</td>\n",
              "                        <td id=\"T_ac5a5b12_65e5_11e9_b7f9_0242ac1c0002row3_col4\" class=\"data row3 col4\" >-75</td>\n",
              "                        <td id=\"T_ac5a5b12_65e5_11e9_b7f9_0242ac1c0002row3_col5\" class=\"data row3 col5\" >12691.2</td>\n",
              "                        <td id=\"T_ac5a5b12_65e5_11e9_b7f9_0242ac1c0002row3_col6\" class=\"data row3 col6\" >23426.8</td>\n",
              "                        <td id=\"T_ac5a5b12_65e5_11e9_b7f9_0242ac1c0002row3_col7\" class=\"data row3 col7\" >2796.36</td>\n",
              "                        <td id=\"T_ac5a5b12_65e5_11e9_b7f9_0242ac1c0002row3_col8\" class=\"data row3 col8\" >21880.4</td>\n",
              "                        <td id=\"T_ac5a5b12_65e5_11e9_b7f9_0242ac1c0002row3_col9\" class=\"data row3 col9\" >2941.72</td>\n",
              "                        <td id=\"T_ac5a5b12_65e5_11e9_b7f9_0242ac1c0002row3_col10\" class=\"data row3 col10\" >16471.8</td>\n",
              "                        <td id=\"T_ac5a5b12_65e5_11e9_b7f9_0242ac1c0002row3_col11\" class=\"data row3 col11\" >5918.15</td>\n",
              "                        <td id=\"T_ac5a5b12_65e5_11e9_b7f9_0242ac1c0002row3_col12\" class=\"data row3 col12\" >26</td>\n",
              "                        <td id=\"T_ac5a5b12_65e5_11e9_b7f9_0242ac1c0002row3_col13\" class=\"data row3 col13\" >123725</td>\n",
              "                        <td id=\"T_ac5a5b12_65e5_11e9_b7f9_0242ac1c0002row3_col14\" class=\"data row3 col14\" >4758.67</td>\n",
              "            </tr>\n",
              "            <tr>\n",
              "                                <th id=\"T_ac5a5b12_65e5_11e9_b7f9_0242ac1c0002level1_row4\" class=\"row_heading level1 row4\" >12422</th>\n",
              "                        <td id=\"T_ac5a5b12_65e5_11e9_b7f9_0242ac1c0002row4_col0\" class=\"data row4 col0\" >0</td>\n",
              "                        <td id=\"T_ac5a5b12_65e5_11e9_b7f9_0242ac1c0002row4_col1\" class=\"data row4 col1\" >238.5</td>\n",
              "                        <td id=\"T_ac5a5b12_65e5_11e9_b7f9_0242ac1c0002row4_col2\" class=\"data row4 col2\" >0</td>\n",
              "                        <td id=\"T_ac5a5b12_65e5_11e9_b7f9_0242ac1c0002row4_col3\" class=\"data row4 col3\" >0</td>\n",
              "                        <td id=\"T_ac5a5b12_65e5_11e9_b7f9_0242ac1c0002row4_col4\" class=\"data row4 col4\" >0</td>\n",
              "                        <td id=\"T_ac5a5b12_65e5_11e9_b7f9_0242ac1c0002row4_col5\" class=\"data row4 col5\" >0</td>\n",
              "                        <td id=\"T_ac5a5b12_65e5_11e9_b7f9_0242ac1c0002row4_col6\" class=\"data row4 col6\" >0</td>\n",
              "                        <td id=\"T_ac5a5b12_65e5_11e9_b7f9_0242ac1c0002row4_col7\" class=\"data row4 col7\" >0</td>\n",
              "                        <td id=\"T_ac5a5b12_65e5_11e9_b7f9_0242ac1c0002row4_col8\" class=\"data row4 col8\" >0</td>\n",
              "                        <td id=\"T_ac5a5b12_65e5_11e9_b7f9_0242ac1c0002row4_col9\" class=\"data row4 col9\" >147.7</td>\n",
              "                        <td id=\"T_ac5a5b12_65e5_11e9_b7f9_0242ac1c0002row4_col10\" class=\"data row4 col10\" >0</td>\n",
              "                        <td id=\"T_ac5a5b12_65e5_11e9_b7f9_0242ac1c0002row4_col11\" class=\"data row4 col11\" >0</td>\n",
              "                        <td id=\"T_ac5a5b12_65e5_11e9_b7f9_0242ac1c0002row4_col12\" class=\"data row4 col12\" >2</td>\n",
              "                        <td id=\"T_ac5a5b12_65e5_11e9_b7f9_0242ac1c0002row4_col13\" class=\"data row4 col13\" >386.2</td>\n",
              "                        <td id=\"T_ac5a5b12_65e5_11e9_b7f9_0242ac1c0002row4_col14\" class=\"data row4 col14\" >193.1</td>\n",
              "            </tr>\n",
              "            <tr>\n",
              "                                <th id=\"T_ac5a5b12_65e5_11e9_b7f9_0242ac1c0002level1_row5\" class=\"row_heading level1 row5\" >12424</th>\n",
              "                        <td id=\"T_ac5a5b12_65e5_11e9_b7f9_0242ac1c0002row5_col0\" class=\"data row5 col0\" >0</td>\n",
              "                        <td id=\"T_ac5a5b12_65e5_11e9_b7f9_0242ac1c0002row5_col1\" class=\"data row5 col1\" >0</td>\n",
              "                        <td id=\"T_ac5a5b12_65e5_11e9_b7f9_0242ac1c0002row5_col2\" class=\"data row5 col2\" >0</td>\n",
              "                        <td id=\"T_ac5a5b12_65e5_11e9_b7f9_0242ac1c0002row5_col3\" class=\"data row5 col3\" >0</td>\n",
              "                        <td id=\"T_ac5a5b12_65e5_11e9_b7f9_0242ac1c0002row5_col4\" class=\"data row5 col4\" >0</td>\n",
              "                        <td id=\"T_ac5a5b12_65e5_11e9_b7f9_0242ac1c0002row5_col5\" class=\"data row5 col5\" >0</td>\n",
              "                        <td id=\"T_ac5a5b12_65e5_11e9_b7f9_0242ac1c0002row5_col6\" class=\"data row5 col6\" >1760.96</td>\n",
              "                        <td id=\"T_ac5a5b12_65e5_11e9_b7f9_0242ac1c0002row5_col7\" class=\"data row5 col7\" >0</td>\n",
              "                        <td id=\"T_ac5a5b12_65e5_11e9_b7f9_0242ac1c0002row5_col8\" class=\"data row5 col8\" >0</td>\n",
              "                        <td id=\"T_ac5a5b12_65e5_11e9_b7f9_0242ac1c0002row5_col9\" class=\"data row5 col9\" >0</td>\n",
              "                        <td id=\"T_ac5a5b12_65e5_11e9_b7f9_0242ac1c0002row5_col10\" class=\"data row5 col10\" >0</td>\n",
              "                        <td id=\"T_ac5a5b12_65e5_11e9_b7f9_0242ac1c0002row5_col11\" class=\"data row5 col11\" >0</td>\n",
              "                        <td id=\"T_ac5a5b12_65e5_11e9_b7f9_0242ac1c0002row5_col12\" class=\"data row5 col12\" >2</td>\n",
              "                        <td id=\"T_ac5a5b12_65e5_11e9_b7f9_0242ac1c0002row5_col13\" class=\"data row5 col13\" >1760.96</td>\n",
              "                        <td id=\"T_ac5a5b12_65e5_11e9_b7f9_0242ac1c0002row5_col14\" class=\"data row5 col14\" >880.48</td>\n",
              "            </tr>\n",
              "            <tr>\n",
              "                                <th id=\"T_ac5a5b12_65e5_11e9_b7f9_0242ac1c0002level1_row6\" class=\"row_heading level1 row6\" >12431</th>\n",
              "                        <td id=\"T_ac5a5b12_65e5_11e9_b7f9_0242ac1c0002row6_col0\" class=\"data row6 col0\" >706.45</td>\n",
              "                        <td id=\"T_ac5a5b12_65e5_11e9_b7f9_0242ac1c0002row6_col1\" class=\"data row6 col1\" >384.68</td>\n",
              "                        <td id=\"T_ac5a5b12_65e5_11e9_b7f9_0242ac1c0002row6_col2\" class=\"data row6 col2\" >412.55</td>\n",
              "                        <td id=\"T_ac5a5b12_65e5_11e9_b7f9_0242ac1c0002row6_col3\" class=\"data row6 col3\" >0</td>\n",
              "                        <td id=\"T_ac5a5b12_65e5_11e9_b7f9_0242ac1c0002row6_col4\" class=\"data row6 col4\" >0</td>\n",
              "                        <td id=\"T_ac5a5b12_65e5_11e9_b7f9_0242ac1c0002row6_col5\" class=\"data row6 col5\" >937.35</td>\n",
              "                        <td id=\"T_ac5a5b12_65e5_11e9_b7f9_0242ac1c0002row6_col6\" class=\"data row6 col6\" >-23</td>\n",
              "                        <td id=\"T_ac5a5b12_65e5_11e9_b7f9_0242ac1c0002row6_col7\" class=\"data row6 col7\" >1069.12</td>\n",
              "                        <td id=\"T_ac5a5b12_65e5_11e9_b7f9_0242ac1c0002row6_col8\" class=\"data row6 col8\" >608.76</td>\n",
              "                        <td id=\"T_ac5a5b12_65e5_11e9_b7f9_0242ac1c0002row6_col9\" class=\"data row6 col9\" >0</td>\n",
              "                        <td id=\"T_ac5a5b12_65e5_11e9_b7f9_0242ac1c0002row6_col10\" class=\"data row6 col10\" >678.76</td>\n",
              "                        <td id=\"T_ac5a5b12_65e5_11e9_b7f9_0242ac1c0002row6_col11\" class=\"data row6 col11\" >601.44</td>\n",
              "                        <td id=\"T_ac5a5b12_65e5_11e9_b7f9_0242ac1c0002row6_col12\" class=\"data row6 col12\" >16</td>\n",
              "                        <td id=\"T_ac5a5b12_65e5_11e9_b7f9_0242ac1c0002row6_col13\" class=\"data row6 col13\" >5376.11</td>\n",
              "                        <td id=\"T_ac5a5b12_65e5_11e9_b7f9_0242ac1c0002row6_col14\" class=\"data row6 col14\" >336.007</td>\n",
              "            </tr>\n",
              "            <tr>\n",
              "                                <th id=\"T_ac5a5b12_65e5_11e9_b7f9_0242ac1c0002level1_row7\" class=\"row_heading level1 row7\" >12434</th>\n",
              "                        <td id=\"T_ac5a5b12_65e5_11e9_b7f9_0242ac1c0002row7_col0\" class=\"data row7 col0\" >-27.75</td>\n",
              "                        <td id=\"T_ac5a5b12_65e5_11e9_b7f9_0242ac1c0002row7_col1\" class=\"data row7 col1\" >0</td>\n",
              "                        <td id=\"T_ac5a5b12_65e5_11e9_b7f9_0242ac1c0002row7_col2\" class=\"data row7 col2\" >0</td>\n",
              "                        <td id=\"T_ac5a5b12_65e5_11e9_b7f9_0242ac1c0002row7_col3\" class=\"data row7 col3\" >286.25</td>\n",
              "                        <td id=\"T_ac5a5b12_65e5_11e9_b7f9_0242ac1c0002row7_col4\" class=\"data row7 col4\" >-13.2</td>\n",
              "                        <td id=\"T_ac5a5b12_65e5_11e9_b7f9_0242ac1c0002row7_col5\" class=\"data row7 col5\" >0</td>\n",
              "                        <td id=\"T_ac5a5b12_65e5_11e9_b7f9_0242ac1c0002row7_col6\" class=\"data row7 col6\" >0</td>\n",
              "                        <td id=\"T_ac5a5b12_65e5_11e9_b7f9_0242ac1c0002row7_col7\" class=\"data row7 col7\" >0</td>\n",
              "                        <td id=\"T_ac5a5b12_65e5_11e9_b7f9_0242ac1c0002row7_col8\" class=\"data row7 col8\" >0</td>\n",
              "                        <td id=\"T_ac5a5b12_65e5_11e9_b7f9_0242ac1c0002row7_col9\" class=\"data row7 col9\" >519.89</td>\n",
              "                        <td id=\"T_ac5a5b12_65e5_11e9_b7f9_0242ac1c0002row7_col10\" class=\"data row7 col10\" >0</td>\n",
              "                        <td id=\"T_ac5a5b12_65e5_11e9_b7f9_0242ac1c0002row7_col11\" class=\"data row7 col11\" >0</td>\n",
              "                        <td id=\"T_ac5a5b12_65e5_11e9_b7f9_0242ac1c0002row7_col12\" class=\"data row7 col12\" >4</td>\n",
              "                        <td id=\"T_ac5a5b12_65e5_11e9_b7f9_0242ac1c0002row7_col13\" class=\"data row7 col13\" >765.19</td>\n",
              "                        <td id=\"T_ac5a5b12_65e5_11e9_b7f9_0242ac1c0002row7_col14\" class=\"data row7 col14\" >191.297</td>\n",
              "            </tr>\n",
              "            <tr>\n",
              "                                <th id=\"T_ac5a5b12_65e5_11e9_b7f9_0242ac1c0002level1_row8\" class=\"row_heading level1 row8\" >16321</th>\n",
              "                        <td id=\"T_ac5a5b12_65e5_11e9_b7f9_0242ac1c0002row8_col0\" class=\"data row8 col0\" >0</td>\n",
              "                        <td id=\"T_ac5a5b12_65e5_11e9_b7f9_0242ac1c0002row8_col1\" class=\"data row8 col1\" >87.75</td>\n",
              "                        <td id=\"T_ac5a5b12_65e5_11e9_b7f9_0242ac1c0002row8_col2\" class=\"data row8 col2\" >67.95</td>\n",
              "                        <td id=\"T_ac5a5b12_65e5_11e9_b7f9_0242ac1c0002row8_col3\" class=\"data row8 col3\" >0</td>\n",
              "                        <td id=\"T_ac5a5b12_65e5_11e9_b7f9_0242ac1c0002row8_col4\" class=\"data row8 col4\" >0</td>\n",
              "                        <td id=\"T_ac5a5b12_65e5_11e9_b7f9_0242ac1c0002row8_col5\" class=\"data row8 col5\" >0</td>\n",
              "                        <td id=\"T_ac5a5b12_65e5_11e9_b7f9_0242ac1c0002row8_col6\" class=\"data row8 col6\" >0</td>\n",
              "                        <td id=\"T_ac5a5b12_65e5_11e9_b7f9_0242ac1c0002row8_col7\" class=\"data row8 col7\" >0</td>\n",
              "                        <td id=\"T_ac5a5b12_65e5_11e9_b7f9_0242ac1c0002row8_col8\" class=\"data row8 col8\" >0</td>\n",
              "                        <td id=\"T_ac5a5b12_65e5_11e9_b7f9_0242ac1c0002row8_col9\" class=\"data row8 col9\" >75</td>\n",
              "                        <td id=\"T_ac5a5b12_65e5_11e9_b7f9_0242ac1c0002row8_col10\" class=\"data row8 col10\" >0</td>\n",
              "                        <td id=\"T_ac5a5b12_65e5_11e9_b7f9_0242ac1c0002row8_col11\" class=\"data row8 col11\" >0</td>\n",
              "                        <td id=\"T_ac5a5b12_65e5_11e9_b7f9_0242ac1c0002row8_col12\" class=\"data row8 col12\" >7</td>\n",
              "                        <td id=\"T_ac5a5b12_65e5_11e9_b7f9_0242ac1c0002row8_col13\" class=\"data row8 col13\" >230.7</td>\n",
              "                        <td id=\"T_ac5a5b12_65e5_11e9_b7f9_0242ac1c0002row8_col14\" class=\"data row8 col14\" >32.9571</td>\n",
              "            </tr>\n",
              "    </tbody></table>"
            ],
            "text/plain": [
              "<pandas.io.formats.style.Styler at 0x7f4a7ac4d630>"
            ]
          },
          "metadata": {
            "tags": []
          },
          "execution_count": 45
        }
      ]
    },
    {
      "cell_type": "markdown",
      "metadata": {
        "id": "yiDaL1vX5d2q",
        "colab_type": "text"
      },
      "source": [
        "**Топ-5 лояльных покупателей**"
      ]
    },
    {
      "cell_type": "code",
      "metadata": {
        "id": "DHvx74Om5vQe",
        "colab_type": "code",
        "outputId": "e8261b0a-a50b-4a41-ac20-23e25f3bca19",
        "colab": {
          "base_uri": "https://localhost:8080/",
          "height": 221
        }
      },
      "source": [
        "frequency_df = df[df.Quantity>0].copy()\n",
        "frequency_df = frequency_df.groupby('CustomerID')['InvoiceNo'].nunique()\n",
        "frequency_df.columns = ['CustomerID','Frequency']\n",
        "frequency_df.sort_values(ascending=False, inplace=True)\n",
        "frequency_df.head(10)"
      ],
      "execution_count": 0,
      "outputs": [
        {
          "output_type": "execute_result",
          "data": {
            "text/plain": [
              "CustomerID\n",
              "12748    209\n",
              "14911    201\n",
              "17841    124\n",
              "13089     97\n",
              "14606     93\n",
              "15311     91\n",
              "12971     86\n",
              "14646     73\n",
              "16029     63\n",
              "13408     62\n",
              "Name: InvoiceNo, dtype: int64"
            ]
          },
          "metadata": {
            "tags": []
          },
          "execution_count": 47
        }
      ]
    },
    {
      "cell_type": "markdown",
      "metadata": {
        "id": "M6iBOF3N5a3D",
        "colab_type": "text"
      },
      "source": [
        "**Выделим когорты**"
      ]
    },
    {
      "cell_type": "code",
      "metadata": {
        "id": "LHsurVnYo9f3",
        "colab_type": "code",
        "outputId": "214ca38e-c7c4-4ead-90e5-ce17afc5fed4",
        "colab": {
          "base_uri": "https://localhost:8080/",
          "height": 204
        }
      },
      "source": [
        "#месяц первой покупки \n",
        "cohorts= df.groupby('CustomerID',as_index=False)['InvoiceMonth'].min()\n",
        "cohorts.rename(columns = {'InvoiceMonth':'Cohort'},inplace=True)\n",
        "cohorts.head()"
      ],
      "execution_count": 0,
      "outputs": [
        {
          "output_type": "execute_result",
          "data": {
            "text/html": [
              "<div>\n",
              "<style scoped>\n",
              "    .dataframe tbody tr th:only-of-type {\n",
              "        vertical-align: middle;\n",
              "    }\n",
              "\n",
              "    .dataframe tbody tr th {\n",
              "        vertical-align: top;\n",
              "    }\n",
              "\n",
              "    .dataframe thead th {\n",
              "        text-align: right;\n",
              "    }\n",
              "</style>\n",
              "<table border=\"1\" class=\"dataframe\">\n",
              "  <thead>\n",
              "    <tr style=\"text-align: right;\">\n",
              "      <th></th>\n",
              "      <th>CustomerID</th>\n",
              "      <th>Cohort</th>\n",
              "    </tr>\n",
              "  </thead>\n",
              "  <tbody>\n",
              "    <tr>\n",
              "      <th>0</th>\n",
              "      <td>12346</td>\n",
              "      <td>2011-01</td>\n",
              "    </tr>\n",
              "    <tr>\n",
              "      <th>1</th>\n",
              "      <td>12347</td>\n",
              "      <td>2010-12</td>\n",
              "    </tr>\n",
              "    <tr>\n",
              "      <th>2</th>\n",
              "      <td>12348</td>\n",
              "      <td>2010-12</td>\n",
              "    </tr>\n",
              "    <tr>\n",
              "      <th>3</th>\n",
              "      <td>12349</td>\n",
              "      <td>2011-11</td>\n",
              "    </tr>\n",
              "    <tr>\n",
              "      <th>4</th>\n",
              "      <td>12350</td>\n",
              "      <td>2011-02</td>\n",
              "    </tr>\n",
              "  </tbody>\n",
              "</table>\n",
              "</div>"
            ],
            "text/plain": [
              "   CustomerID   Cohort\n",
              "0       12346  2011-01\n",
              "1       12347  2010-12\n",
              "2       12348  2010-12\n",
              "3       12349  2011-11\n",
              "4       12350  2011-02"
            ]
          },
          "metadata": {
            "tags": []
          },
          "execution_count": 48
        }
      ]
    },
    {
      "cell_type": "code",
      "metadata": {
        "id": "kZvKm-BgviU4",
        "colab_type": "code",
        "outputId": "6f9138d3-8144-466f-fac7-ceaee46e5aea",
        "colab": {
          "base_uri": "https://localhost:8080/",
          "height": 80
        }
      },
      "source": [
        "#аналог left join в sql\n",
        "df_merged= pd.merge(df,cohorts , how='left', on='CustomerID')\n",
        "df_merged.sample()"
      ],
      "execution_count": 0,
      "outputs": [
        {
          "output_type": "execute_result",
          "data": {
            "text/html": [
              "<div>\n",
              "<style scoped>\n",
              "    .dataframe tbody tr th:only-of-type {\n",
              "        vertical-align: middle;\n",
              "    }\n",
              "\n",
              "    .dataframe tbody tr th {\n",
              "        vertical-align: top;\n",
              "    }\n",
              "\n",
              "    .dataframe thead th {\n",
              "        text-align: right;\n",
              "    }\n",
              "</style>\n",
              "<table border=\"1\" class=\"dataframe\">\n",
              "  <thead>\n",
              "    <tr style=\"text-align: right;\">\n",
              "      <th></th>\n",
              "      <th>InvoiceNo</th>\n",
              "      <th>StockCode</th>\n",
              "      <th>Description</th>\n",
              "      <th>Quantity</th>\n",
              "      <th>InvoiceDate</th>\n",
              "      <th>UnitPrice</th>\n",
              "      <th>CustomerID</th>\n",
              "      <th>Country</th>\n",
              "      <th>Revenue</th>\n",
              "      <th>InvoiceMonth</th>\n",
              "      <th>Cohort</th>\n",
              "    </tr>\n",
              "  </thead>\n",
              "  <tbody>\n",
              "    <tr>\n",
              "      <th>68614</th>\n",
              "      <td>545288</td>\n",
              "      <td>20725</td>\n",
              "      <td>LUNCH BAG RED RETROSPOT</td>\n",
              "      <td>100</td>\n",
              "      <td>2011-03-01 11:48:00</td>\n",
              "      <td>1.45</td>\n",
              "      <td>15311</td>\n",
              "      <td>United Kingdom</td>\n",
              "      <td>145.0</td>\n",
              "      <td>2011-03</td>\n",
              "      <td>2010-12</td>\n",
              "    </tr>\n",
              "  </tbody>\n",
              "</table>\n",
              "</div>"
            ],
            "text/plain": [
              "      InvoiceNo StockCode              Description  Quantity  \\\n",
              "68614    545288     20725  LUNCH BAG RED RETROSPOT       100   \n",
              "\n",
              "              InvoiceDate  UnitPrice  CustomerID         Country  Revenue  \\\n",
              "68614 2011-03-01 11:48:00       1.45       15311  United Kingdom    145.0   \n",
              "\n",
              "      InvoiceMonth   Cohort  \n",
              "68614      2011-03  2010-12  "
            ]
          },
          "metadata": {
            "tags": []
          },
          "execution_count": 49
        }
      ]
    },
    {
      "cell_type": "code",
      "metadata": {
        "id": "sCldVktG4Qop",
        "colab_type": "code",
        "outputId": "42624ff2-a50d-4e93-9567-a377f2fecd68",
        "colab": {
          "base_uri": "https://localhost:8080/",
          "height": 335
        }
      },
      "source": [
        "df_merged.groupby(['Cohort'])['Revenue'].sum().plot(kind='bar') \n",
        "#добавить условие"
      ],
      "execution_count": 0,
      "outputs": [
        {
          "output_type": "execute_result",
          "data": {
            "text/plain": [
              "<matplotlib.axes._subplots.AxesSubplot at 0x7f4a6ae607b8>"
            ]
          },
          "metadata": {
            "tags": []
          },
          "execution_count": 50
        },
        {
          "output_type": "display_data",
          "data": {
            "image/png": "[encoded data removed]",
            "text/plain": [
              "<Figure size 432x288 with 1 Axes>"
            ]
          },
          "metadata": {
            "tags": []
          }
        }
      ]
    },
    {
      "cell_type": "markdown",
      "metadata": {
        "id": "gkF-Zcl4Ojnt",
        "colab_type": "text"
      },
      "source": [
        "## Retention"
      ]
    },
    {
      "cell_type": "code",
      "metadata": {
        "id": "djKJrJw6IW0w",
        "colab_type": "code",
        "outputId": "05f1fded-6707-4137-f1bd-4ec75d32c968",
        "colab": {
          "base_uri": "https://localhost:8080/",
          "height": 518
        }
      },
      "source": [
        "import numpy as np\n",
        "from matplotlib import pyplot as plt\n",
        "\n",
        "def cohort_period(df):\n",
        "  \"\"\"\n",
        "  Creates column CohortPeriod\n",
        "  \"\"\"\n",
        "  df['CohortPeriod'] = np.arange(len(df))\n",
        "  return df\n",
        " \n",
        "\n",
        "cohorts = df_merged.groupby(['Cohort', 'InvoiceMonth']).agg({'CustomerID': pd.Series.nunique})\n",
        "cohorts.rename(columns={'CustomerID': 'TotalUsers',\n",
        "                        'InvoiceNo': 'TotalOrders'}, inplace=True)\n",
        "cohorts = cohorts.groupby(level=0).apply(cohort_period)\n",
        "cohorts.reset_index(inplace=True)\n",
        "cohorts.set_index(['Cohort', 'CohortPeriod'], inplace=True) \n",
        "cohort_group_size = cohorts['TotalUsers'].groupby(level=0).first()\n",
        "user_retention = cohorts['TotalUsers'].unstack(0).divide(cohort_group_size, axis=1)\n",
        "\n",
        "sns.set(style='white')\n",
        "plt.figure(figsize=(12, 8))\n",
        "plt.title('Cohorts: User Retention')\n",
        "sns.heatmap(user_retention.T, mask=user_retention.T.isnull(), annot=True, fmt='.0%');"
      ],
      "execution_count": 0,
      "outputs": [
        {
          "output_type": "display_data",
          "data": {
            "image/png": "[encoded data removed]",
            "text/plain": [
              "<Figure size 864x576 with 2 Axes>"
            ]
          },
          "metadata": {
            "tags": []
          }
        }
      ]
    },
    {
      "cell_type": "markdown",
      "metadata": {
        "id": "T94ptHwekT5y",
        "colab_type": "text"
      },
      "source": [
        "### Средний чек"
      ]
    },
    {
      "cell_type": "code",
      "metadata": {
        "id": "8iC7Z8dKkSqj",
        "colab_type": "code",
        "outputId": "0544f485-a800-4ad7-9747-a233914a1ddc",
        "colab": {
          "base_uri": "https://localhost:8080/",
          "height": 308
        }
      },
      "source": [
        "aov = df.groupby(df['InvoiceMonth'])['Revenue'].sum().divide(df.groupby(df['InvoiceMonth'])['InvoiceNo'].nunique() )\n",
        "aov.plot() "
      ],
      "execution_count": 0,
      "outputs": [
        {
          "output_type": "execute_result",
          "data": {
            "text/plain": [
              "<matplotlib.axes._subplots.AxesSubplot at 0x7f4a6a64c908>"
            ]
          },
          "metadata": {
            "tags": []
          },
          "execution_count": 52
        },
        {
          "output_type": "display_data",
          "data": {
            "image/png": "[encoded data removed]",
            "text/plain": [
              "<Figure size 432x288 with 1 Axes>"
            ]
          },
          "metadata": {
            "tags": []
          }
        }
      ]
    },
    {
      "cell_type": "markdown",
      "metadata": {
        "id": "SZzxR-uRwBcn",
        "colab_type": "text"
      },
      "source": [
        "## Сегменты товаров по стоимости"
      ]
    },
    {
      "cell_type": "code",
      "metadata": {
        "id": "iXpxwRrdvU3A",
        "colab_type": "code",
        "outputId": "41fd2cf6-4615-4d40-c2f3-8df49f89a35e",
        "colab": {
          "base_uri": "https://localhost:8080/",
          "height": 102
        }
      },
      "source": [
        "def price_segment(row):\n",
        "    if row <5:\n",
        "        return 'cheap' \n",
        "    if row >=5 and row<100:\n",
        "        return 'middle'\n",
        "    if row >=100:\n",
        "        return 'expensive'\n",
        " \n",
        "\n",
        "df['PriceSegment'] = df[df.Quantity>0]['UnitPrice'].apply(price_segment)\n",
        "df.groupby('PriceSegment')['StockCode'].nunique()"
      ],
      "execution_count": 0,
      "outputs": [
        {
          "output_type": "execute_result",
          "data": {
            "text/plain": [
              "PriceSegment\n",
              "cheap        3251\n",
              "expensive      11\n",
              "middle        878\n",
              "Name: StockCode, dtype: int64"
            ]
          },
          "metadata": {
            "tags": []
          },
          "execution_count": 53
        }
      ]
    },
    {
      "cell_type": "markdown",
      "metadata": {
        "id": "UlLaf5HGv5BD",
        "colab_type": "text"
      },
      "source": [
        "План Б"
      ]
    },
    {
      "cell_type": "code",
      "metadata": {
        "id": "oUfQABChs4in",
        "colab_type": "code",
        "colab": {}
      },
      "source": [
        "#Вариант для загрузки файла\n",
        "# скачиваем данные на комп и загружаем их в колаб\n",
        "# from google.colab import files\n",
        "\n",
        "# uploaded = files.upload()\n",
        "\n",
        "# for fn in uploaded.keys():\n",
        "#   print('User uploaded file \"{name}\" with length {length} bytes'.format(\n",
        "#       name=fn, length=len(uploaded[fn])))\n",
        "import pandas as pd\n",
        "url = 'https://github.com/daryamukh/Python-for-data-analysis/blob/master/ecommerce-data.zip?raw=true'\n",
        "df = pd.read_csv(url  ,encoding='ISO-8859-1', compression='zip')\n",
        "#готовим данные, меняем типы, создаем новые столбцы\n",
        "df=df[(df.CustomerID.notnull()) & (df.UnitPrice!=0)]\n",
        "df.drop_duplicates(inplace=True)\n",
        "df.CustomerID  = df.CustomerID.astype('int64')\n",
        "df['InvoiceDate'] = pd.to_datetime(df['InvoiceDate'])\n",
        "df['Revenue']=df['Quantity']*df['UnitPrice']\n",
        "df['InvoiceMonth'] = df['InvoiceDate'].dt.strftime('%Y-%m') "
      ],
      "execution_count": 0,
      "outputs": []
    }
  ]
}